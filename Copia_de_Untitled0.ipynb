{
  "nbformat": 4,
  "nbformat_minor": 0,
  "metadata": {
    "colab": {
      "name": "Copia de Untitled0.ipynb",
      "provenance": [],
      "collapsed_sections": [],
      "toc_visible": true,
      "authorship_tag": "ABX9TyNHTofCCohvWkQQPnGnughz",
      "include_colab_link": true
    },
    "kernelspec": {
      "name": "python3",
      "display_name": "Python 3"
    }
  },
  "cells": [
    {
      "cell_type": "markdown",
      "metadata": {
        "id": "view-in-github",
        "colab_type": "text"
      },
      "source": [
        "<a href=\"https://colab.research.google.com/github/MarcoLope/PROYECTOO/blob/master/Copia_de_Untitled0.ipynb\" target=\"_parent\"><img src=\"https://colab.research.google.com/assets/colab-badge.svg\" alt=\"Open In Colab\"/></a>"
      ]
    },
    {
      "cell_type": "code",
      "metadata": {
        "id": "qE3UiswfnnlL",
        "colab_type": "code",
        "colab": {}
      },
      "source": [
        "import pandas as pd\n",
        "import numpy as np\n",
        "import missingno as msno\n",
        "%matplotlib inline"
      ],
      "execution_count": 0,
      "outputs": []
    },
    {
      "cell_type": "code",
      "metadata": {
        "id": "f4pxtgwTnvAZ",
        "colab_type": "code",
        "colab": {}
      },
      "source": [
        "path = '/content/lista-de-escuelas-de-atencion-prioritaria.csv'\n",
        "df = pd.read_csv(path, encoding='latin', error_bad_lines=False)\n",
        "df.head()"
      ],
      "execution_count": 0,
      "outputs": []
    },
    {
      "cell_type": "code",
      "metadata": {
        "id": "EQVOj3hzoq47",
        "colab_type": "code",
        "outputId": "574cf4ee-c15f-4ec4-92d1-5fa10abf2972",
        "colab": {
          "base_uri": "https://localhost:8080/",
          "height": 967
        }
      },
      "source": [
        "df.loc[10:19]"
      ],
      "execution_count": 0,
      "outputs": [
        {
          "output_type": "execute_result",
          "data": {
            "text/html": [
              "<div>\n",
              "<style scoped>\n",
              "    .dataframe tbody tr th:only-of-type {\n",
              "        vertical-align: middle;\n",
              "    }\n",
              "\n",
              "    .dataframe tbody tr th {\n",
              "        vertical-align: top;\n",
              "    }\n",
              "\n",
              "    .dataframe thead th {\n",
              "        text-align: right;\n",
              "    }\n",
              "</style>\n",
              "<table border=\"1\" class=\"dataframe\">\n",
              "  <thead>\n",
              "    <tr style=\"text-align: right;\">\n",
              "      <th></th>\n",
              "      <th>No.</th>\n",
              "      <th>NIVEL</th>\n",
              "      <th>ZONA_ESCOLAR</th>\n",
              "      <th>NOMBRE DE ESCUELA</th>\n",
              "      <th>CLAVE_DEL_CENTRO_DE_TRABAJO</th>\n",
              "      <th>TURNO</th>\n",
              "      <th>NâMERO_ALUMNAS</th>\n",
              "      <th>NâMERO_ALUMNOS</th>\n",
              "      <th>MUNICIPIO</th>\n",
              "      <th>DIRECCIÃN</th>\n",
              "      <th>CÃDIGO_POSTAL</th>\n",
              "      <th>ESTADO</th>\n",
              "    </tr>\n",
              "  </thead>\n",
              "  <tbody>\n",
              "    <tr>\n",
              "      <th>10</th>\n",
              "      <td>11</td>\n",
              "      <td>PREESCOLAR</td>\n",
              "      <td>3</td>\n",
              "      <td>La Pajarita</td>\n",
              "      <td>24EJN0012U</td>\n",
              "      <td>Matutino</td>\n",
              "      <td>72</td>\n",
              "      <td>91</td>\n",
              "      <td>San Luis PotosÃ­</td>\n",
              "      <td>JuliÃ¡n Carrillo esq. AgustÃ­n Vera, Col. Del ...</td>\n",
              "      <td>78250.0</td>\n",
              "      <td>San Luis PotosÃ­</td>\n",
              "    </tr>\n",
              "    <tr>\n",
              "      <th>11</th>\n",
              "      <td>12</td>\n",
              "      <td>PREESCOLAR</td>\n",
              "      <td>3</td>\n",
              "      <td>Educ. Ma. De la Luz Wong</td>\n",
              "      <td>24EJN0028V</td>\n",
              "      <td>Matutino</td>\n",
              "      <td>34</td>\n",
              "      <td>46</td>\n",
              "      <td>San Luis PotosÃ­</td>\n",
              "      <td>HÃ­dalgo no. 704, Zona Centro</td>\n",
              "      <td>78340.0</td>\n",
              "      <td>San Luis PotosÃ­</td>\n",
              "    </tr>\n",
              "    <tr>\n",
              "      <th>12</th>\n",
              "      <td>13</td>\n",
              "      <td>PREESCOLAR</td>\n",
              "      <td>4</td>\n",
              "      <td>Vicente Rivera</td>\n",
              "      <td>24EJN0015R</td>\n",
              "      <td>Matutino</td>\n",
              "      <td>79</td>\n",
              "      <td>78</td>\n",
              "      <td>San Luis PotosÃ­</td>\n",
              "      <td>ConstituciÃ³n 1600, Col. JuliÃ¡n Carrillo</td>\n",
              "      <td>78340.0</td>\n",
              "      <td>San Luis PotosÃ­</td>\n",
              "    </tr>\n",
              "    <tr>\n",
              "      <th>13</th>\n",
              "      <td>14</td>\n",
              "      <td>PREESCOLAR</td>\n",
              "      <td>4</td>\n",
              "      <td>Ricardo Flores MagÃ³n</td>\n",
              "      <td>24EJN0026X</td>\n",
              "      <td>Matutino</td>\n",
              "      <td>48</td>\n",
              "      <td>46</td>\n",
              "      <td>San Luis PotosÃ­</td>\n",
              "      <td>Tuna s/n Manzana no. 33 / Pitahaya y Agave, Lo...</td>\n",
              "      <td>78109.0</td>\n",
              "      <td>San Luis PotosÃ­</td>\n",
              "    </tr>\n",
              "    <tr>\n",
              "      <th>14</th>\n",
              "      <td>15</td>\n",
              "      <td>PREESCOLAR</td>\n",
              "      <td>5</td>\n",
              "      <td>Martha Gallego Briones</td>\n",
              "      <td>24EJN0393S</td>\n",
              "      <td>Matutino</td>\n",
              "      <td>50</td>\n",
              "      <td>45</td>\n",
              "      <td>Rioverde</td>\n",
              "      <td>Hacienda de Santo Domingo no. 200, Fracc. Gabr...</td>\n",
              "      <td>79610.0</td>\n",
              "      <td>San Luis PotosÃ­</td>\n",
              "    </tr>\n",
              "    <tr>\n",
              "      <th>15</th>\n",
              "      <td>16</td>\n",
              "      <td>PREESCOLAR</td>\n",
              "      <td>5</td>\n",
              "      <td>Profra. MarÃ­a ConcepciÃ³n Ledesma  CalderÃ³n</td>\n",
              "      <td>24EJN0375C</td>\n",
              "      <td>Matutino</td>\n",
              "      <td>27</td>\n",
              "      <td>44</td>\n",
              "      <td>Rioverde</td>\n",
              "      <td>Dr. Gallardo no. 910, Col. Centro</td>\n",
              "      <td>79610.0</td>\n",
              "      <td>San Luis PotosÃ­</td>\n",
              "    </tr>\n",
              "    <tr>\n",
              "      <th>16</th>\n",
              "      <td>17</td>\n",
              "      <td>PREESCOLAR</td>\n",
              "      <td>6</td>\n",
              "      <td>Margarita Grizelda RenterÃ­a CÃ¡rdenas</td>\n",
              "      <td>24EJN0412Q</td>\n",
              "      <td>Matutino</td>\n",
              "      <td>46</td>\n",
              "      <td>43</td>\n",
              "      <td>San Luis PotosÃ­</td>\n",
              "      <td>Calle de la Linaza no. 304 / C.del Arroz- Alpi...</td>\n",
              "      <td>78010.0</td>\n",
              "      <td>San Luis PotosÃ­</td>\n",
              "    </tr>\n",
              "    <tr>\n",
              "      <th>17</th>\n",
              "      <td>18</td>\n",
              "      <td>PREESCOLAR</td>\n",
              "      <td>6</td>\n",
              "      <td>Margarita Reyes</td>\n",
              "      <td>24EJN0010W</td>\n",
              "      <td>Matutino</td>\n",
              "      <td>72</td>\n",
              "      <td>67</td>\n",
              "      <td>San Luis PotosÃ­</td>\n",
              "      <td>JardÃ­n Lerdo de Tejada s/ n, Barrio de San Se...</td>\n",
              "      <td>78340.0</td>\n",
              "      <td>San Luis PotosÃ­</td>\n",
              "    </tr>\n",
              "    <tr>\n",
              "      <th>18</th>\n",
              "      <td>19</td>\n",
              "      <td>PREESCOLAR</td>\n",
              "      <td>7</td>\n",
              "      <td>Manuel JosÃ© OthÃ³n</td>\n",
              "      <td>24EJN0009G</td>\n",
              "      <td>Matutino</td>\n",
              "      <td>44</td>\n",
              "      <td>33</td>\n",
              "      <td>San Luis PotosÃ­</td>\n",
              "      <td>ZenÃ³n FernÃ¡ndez no. 940, Barrio de San Migue...</td>\n",
              "      <td>78330.0</td>\n",
              "      <td>San Luis PotosÃ­</td>\n",
              "    </tr>\n",
              "    <tr>\n",
              "      <th>19</th>\n",
              "      <td>20</td>\n",
              "      <td>PREESCOLAR</td>\n",
              "      <td>7</td>\n",
              "      <td>Lic. Luis Donaldo Murrieta</td>\n",
              "      <td>24EJN0372F</td>\n",
              "      <td>Matutino</td>\n",
              "      <td>97</td>\n",
              "      <td>87</td>\n",
              "      <td>San Luis PotosÃ­</td>\n",
              "      <td>Gardenia no. 425, Fracc. JardÃ­nes del Sur</td>\n",
              "      <td>78399.0</td>\n",
              "      <td>San Luis PotosÃ­</td>\n",
              "    </tr>\n",
              "  </tbody>\n",
              "</table>\n",
              "</div>"
            ],
            "text/plain": [
              "    No.       NIVEL  ...  CÃDIGO_POSTAL            ESTADO\n",
              "10   11  PREESCOLAR  ...         78250.0  San Luis PotosÃ­\n",
              "11   12  PREESCOLAR  ...         78340.0  San Luis PotosÃ­\n",
              "12   13  PREESCOLAR  ...         78340.0  San Luis PotosÃ­\n",
              "13   14  PREESCOLAR  ...         78109.0  San Luis PotosÃ­\n",
              "14   15  PREESCOLAR  ...         79610.0  San Luis PotosÃ­\n",
              "15   16  PREESCOLAR  ...         79610.0  San Luis PotosÃ­\n",
              "16   17  PREESCOLAR  ...         78010.0  San Luis PotosÃ­\n",
              "17   18  PREESCOLAR  ...         78340.0  San Luis PotosÃ­\n",
              "18   19  PREESCOLAR  ...         78330.0  San Luis PotosÃ­\n",
              "19   20  PREESCOLAR  ...         78399.0  San Luis PotosÃ­\n",
              "\n",
              "[10 rows x 12 columns]"
            ]
          },
          "metadata": {
            "tags": []
          },
          "execution_count": 38
        }
      ]
    },
    {
      "cell_type": "code",
      "metadata": {
        "id": "XMabHLfRtrKP",
        "colab_type": "code",
        "colab": {}
      },
      "source": [
        "df.drop([0,10,19], axis=0).head()"
      ],
      "execution_count": 0,
      "outputs": []
    },
    {
      "cell_type": "code",
      "metadata": {
        "id": "HFZ2B-xut5iv",
        "colab_type": "code",
        "outputId": "38a617cb-e18e-4c6f-f371-c381161ec8d4",
        "colab": {
          "base_uri": "https://localhost:8080/",
          "height": 551
        }
      },
      "source": [
        "df[10:].head() #df.tail(-100) )"
      ],
      "execution_count": 0,
      "outputs": [
        {
          "output_type": "execute_result",
          "data": {
            "text/html": [
              "<div>\n",
              "<style scoped>\n",
              "    .dataframe tbody tr th:only-of-type {\n",
              "        vertical-align: middle;\n",
              "    }\n",
              "\n",
              "    .dataframe tbody tr th {\n",
              "        vertical-align: top;\n",
              "    }\n",
              "\n",
              "    .dataframe thead th {\n",
              "        text-align: right;\n",
              "    }\n",
              "</style>\n",
              "<table border=\"1\" class=\"dataframe\">\n",
              "  <thead>\n",
              "    <tr style=\"text-align: right;\">\n",
              "      <th></th>\n",
              "      <th>No.</th>\n",
              "      <th>NIVEL</th>\n",
              "      <th>ZONA_ESCOLAR</th>\n",
              "      <th>NOMBRE DE ESCUELA</th>\n",
              "      <th>CLAVE_DEL_CENTRO_DE_TRABAJO</th>\n",
              "      <th>TURNO</th>\n",
              "      <th>NâMERO_ALUMNAS</th>\n",
              "      <th>NâMERO_ALUMNOS</th>\n",
              "      <th>MUNICIPIO</th>\n",
              "      <th>DIRECCIÃN</th>\n",
              "      <th>CÃDIGO_POSTAL</th>\n",
              "      <th>ESTADO</th>\n",
              "    </tr>\n",
              "  </thead>\n",
              "  <tbody>\n",
              "    <tr>\n",
              "      <th>10</th>\n",
              "      <td>11</td>\n",
              "      <td>PREESCOLAR</td>\n",
              "      <td>3</td>\n",
              "      <td>La Pajarita</td>\n",
              "      <td>24EJN0012U</td>\n",
              "      <td>Matutino</td>\n",
              "      <td>72</td>\n",
              "      <td>91</td>\n",
              "      <td>San Luis PotosÃ­</td>\n",
              "      <td>JuliÃ¡n Carrillo esq. AgustÃ­n Vera, Col. Del ...</td>\n",
              "      <td>78250.0</td>\n",
              "      <td>San Luis PotosÃ­</td>\n",
              "    </tr>\n",
              "    <tr>\n",
              "      <th>11</th>\n",
              "      <td>12</td>\n",
              "      <td>PREESCOLAR</td>\n",
              "      <td>3</td>\n",
              "      <td>Educ. Ma. De la Luz Wong</td>\n",
              "      <td>24EJN0028V</td>\n",
              "      <td>Matutino</td>\n",
              "      <td>34</td>\n",
              "      <td>46</td>\n",
              "      <td>San Luis PotosÃ­</td>\n",
              "      <td>HÃ­dalgo no. 704, Zona Centro</td>\n",
              "      <td>78340.0</td>\n",
              "      <td>San Luis PotosÃ­</td>\n",
              "    </tr>\n",
              "    <tr>\n",
              "      <th>12</th>\n",
              "      <td>13</td>\n",
              "      <td>PREESCOLAR</td>\n",
              "      <td>4</td>\n",
              "      <td>Vicente Rivera</td>\n",
              "      <td>24EJN0015R</td>\n",
              "      <td>Matutino</td>\n",
              "      <td>79</td>\n",
              "      <td>78</td>\n",
              "      <td>San Luis PotosÃ­</td>\n",
              "      <td>ConstituciÃ³n 1600, Col. JuliÃ¡n Carrillo</td>\n",
              "      <td>78340.0</td>\n",
              "      <td>San Luis PotosÃ­</td>\n",
              "    </tr>\n",
              "    <tr>\n",
              "      <th>13</th>\n",
              "      <td>14</td>\n",
              "      <td>PREESCOLAR</td>\n",
              "      <td>4</td>\n",
              "      <td>Ricardo Flores MagÃ³n</td>\n",
              "      <td>24EJN0026X</td>\n",
              "      <td>Matutino</td>\n",
              "      <td>48</td>\n",
              "      <td>46</td>\n",
              "      <td>San Luis PotosÃ­</td>\n",
              "      <td>Tuna s/n Manzana no. 33 / Pitahaya y Agave, Lo...</td>\n",
              "      <td>78109.0</td>\n",
              "      <td>San Luis PotosÃ­</td>\n",
              "    </tr>\n",
              "    <tr>\n",
              "      <th>14</th>\n",
              "      <td>15</td>\n",
              "      <td>PREESCOLAR</td>\n",
              "      <td>5</td>\n",
              "      <td>Martha Gallego Briones</td>\n",
              "      <td>24EJN0393S</td>\n",
              "      <td>Matutino</td>\n",
              "      <td>50</td>\n",
              "      <td>45</td>\n",
              "      <td>Rioverde</td>\n",
              "      <td>Hacienda de Santo Domingo no. 200, Fracc. Gabr...</td>\n",
              "      <td>79610.0</td>\n",
              "      <td>San Luis PotosÃ­</td>\n",
              "    </tr>\n",
              "  </tbody>\n",
              "</table>\n",
              "</div>"
            ],
            "text/plain": [
              "    No.       NIVEL  ...  CÃDIGO_POSTAL            ESTADO\n",
              "10   11  PREESCOLAR  ...         78250.0  San Luis PotosÃ­\n",
              "11   12  PREESCOLAR  ...         78340.0  San Luis PotosÃ­\n",
              "12   13  PREESCOLAR  ...         78340.0  San Luis PotosÃ­\n",
              "13   14  PREESCOLAR  ...         78109.0  San Luis PotosÃ­\n",
              "14   15  PREESCOLAR  ...         79610.0  San Luis PotosÃ­\n",
              "\n",
              "[5 rows x 12 columns]"
            ]
          },
          "metadata": {
            "tags": []
          },
          "execution_count": 41
        }
      ]
    },
    {
      "cell_type": "code",
      "metadata": {
        "id": "o4J1tImht8f_",
        "colab_type": "code",
        "colab": {}
      },
      "source": [
        "df.NIVEL.unique()"
      ],
      "execution_count": 0,
      "outputs": []
    },
    {
      "cell_type": "code",
      "metadata": {
        "id": "2F7snZEfvm4Z",
        "colab_type": "code",
        "colab": {}
      },
      "source": [
        "df.TURNO.value_counts()"
      ],
      "execution_count": 0,
      "outputs": []
    },
    {
      "cell_type": "code",
      "metadata": {
        "id": "Onr7n1emvusD",
        "colab_type": "code",
        "colab": {}
      },
      "source": [
        "df.agg(['count', 'size', 'nunique'])"
      ],
      "execution_count": 0,
      "outputs": []
    },
    {
      "cell_type": "code",
      "metadata": {
        "id": "y52BB8xwy5xA",
        "colab_type": "code",
        "colab": {}
      },
      "source": [
        "df.groupby('ZONA_ESCOLAR').agg(['count', 'size', 'nunique']).stack()"
      ],
      "execution_count": 0,
      "outputs": []
    },
    {
      "cell_type": "code",
      "metadata": {
        "id": "foi-NTs6zCWF",
        "colab_type": "code",
        "colab": {}
      },
      "source": [
        "df.CLAVE_DEL_CENTRO_DE_TRABAJO.value_counts()"
      ],
      "execution_count": 0,
      "outputs": []
    },
    {
      "cell_type": "code",
      "metadata": {
        "id": "54O1DjGUzRv9",
        "colab_type": "code",
        "colab": {}
      },
      "source": [
        "df_sample = df.sample(frac=0.05, random_state=1)\n",
        "df_sample.head()"
      ],
      "execution_count": 0,
      "outputs": []
    },
    {
      "cell_type": "code",
      "metadata": {
        "id": "KK19nYZhusc9",
        "colab_type": "code",
        "colab": {}
      },
      "source": [
        "df_dropped = df.dropna(subset=['CLAVE_DEL_CENTRO_DE_TRABAJO'])\n",
        "df_dropped.head()"
      ],
      "execution_count": 0,
      "outputs": []
    },
    {
      "cell_type": "code",
      "metadata": {
        "id": "W6fbZDfHzo20",
        "colab_type": "code",
        "outputId": "a6c46ffa-cb49-4bfa-b289-25dad7d64132",
        "colab": {
          "base_uri": "https://localhost:8080/",
          "height": 34
        }
      },
      "source": [
        "df_dropped.shape"
      ],
      "execution_count": 0,
      "outputs": [
        {
          "output_type": "execute_result",
          "data": {
            "text/plain": [
              "(97, 12)"
            ]
          },
          "metadata": {
            "tags": []
          },
          "execution_count": 50
        }
      ]
    },
    {
      "cell_type": "code",
      "metadata": {
        "id": "HaUimbczzu9d",
        "colab_type": "code",
        "outputId": "09018ce1-ea0e-4685-ca31-f583c4271bd8",
        "colab": {
          "base_uri": "https://localhost:8080/",
          "height": 34
        }
      },
      "source": [
        "df_copy = df.copy()\n",
        "df_copy.head()\n",
        "df_copy.shape"
      ],
      "execution_count": 0,
      "outputs": [
        {
          "output_type": "execute_result",
          "data": {
            "text/plain": [
              "(97, 12)"
            ]
          },
          "metadata": {
            "tags": []
          },
          "execution_count": 52
        }
      ]
    },
    {
      "cell_type": "code",
      "metadata": {
        "id": "rMFRYVZfz5j4",
        "colab_type": "code",
        "outputId": "a830899f-0ad8-4645-af27-37471dc39595",
        "colab": {
          "base_uri": "https://localhost:8080/",
          "height": 34
        }
      },
      "source": [
        "df_dropped['NâMERO_ALUMNAS'].dtype"
      ],
      "execution_count": 0,
      "outputs": [
        {
          "output_type": "execute_result",
          "data": {
            "text/plain": [
              "dtype('O')"
            ]
          },
          "metadata": {
            "tags": []
          },
          "execution_count": 53
        }
      ]
    },
    {
      "cell_type": "code",
      "metadata": {
        "id": "NEzSvCkJ0A3v",
        "colab_type": "code",
        "colab": {}
      },
      "source": [
        "df_copy['ZONA_ESCOLAR'].fillna(value=np.round(df['ZONA_ESCOLAR'].mean(),decimals=0), inplace=True)"
      ],
      "execution_count": 0,
      "outputs": []
    },
    {
      "cell_type": "code",
      "metadata": {
        "id": "43rkQuB40Ma4",
        "colab_type": "code",
        "outputId": "15a589c1-5542-4924-9413-47d29c8bc969",
        "colab": {
          "base_uri": "https://localhost:8080/",
          "height": 191
        }
      },
      "source": [
        "df_copy.agg(['count', 'size', 'nunique'])"
      ],
      "execution_count": 0,
      "outputs": [
        {
          "output_type": "execute_result",
          "data": {
            "text/html": [
              "<div>\n",
              "<style scoped>\n",
              "    .dataframe tbody tr th:only-of-type {\n",
              "        vertical-align: middle;\n",
              "    }\n",
              "\n",
              "    .dataframe tbody tr th {\n",
              "        vertical-align: top;\n",
              "    }\n",
              "\n",
              "    .dataframe thead th {\n",
              "        text-align: right;\n",
              "    }\n",
              "</style>\n",
              "<table border=\"1\" class=\"dataframe\">\n",
              "  <thead>\n",
              "    <tr style=\"text-align: right;\">\n",
              "      <th></th>\n",
              "      <th>No.</th>\n",
              "      <th>NIVEL</th>\n",
              "      <th>ZONA_ESCOLAR</th>\n",
              "      <th>NOMBRE DE ESCUELA</th>\n",
              "      <th>CLAVE_DEL_CENTRO_DE_TRABAJO</th>\n",
              "      <th>TURNO</th>\n",
              "      <th>NâMERO_ALUMNAS</th>\n",
              "      <th>NâMERO_ALUMNOS</th>\n",
              "      <th>MUNICIPIO</th>\n",
              "      <th>DIRECCIÃN</th>\n",
              "      <th>CÃDIGO_POSTAL</th>\n",
              "      <th>ESTADO</th>\n",
              "    </tr>\n",
              "  </thead>\n",
              "  <tbody>\n",
              "    <tr>\n",
              "      <th>count</th>\n",
              "      <td>97</td>\n",
              "      <td>97</td>\n",
              "      <td>97</td>\n",
              "      <td>97</td>\n",
              "      <td>97</td>\n",
              "      <td>97</td>\n",
              "      <td>97</td>\n",
              "      <td>97</td>\n",
              "      <td>97</td>\n",
              "      <td>97</td>\n",
              "      <td>95</td>\n",
              "      <td>97</td>\n",
              "    </tr>\n",
              "    <tr>\n",
              "      <th>size</th>\n",
              "      <td>97</td>\n",
              "      <td>97</td>\n",
              "      <td>97</td>\n",
              "      <td>97</td>\n",
              "      <td>97</td>\n",
              "      <td>97</td>\n",
              "      <td>97</td>\n",
              "      <td>97</td>\n",
              "      <td>97</td>\n",
              "      <td>97</td>\n",
              "      <td>97</td>\n",
              "      <td>97</td>\n",
              "    </tr>\n",
              "    <tr>\n",
              "      <th>nunique</th>\n",
              "      <td>97</td>\n",
              "      <td>6</td>\n",
              "      <td>20</td>\n",
              "      <td>93</td>\n",
              "      <td>96</td>\n",
              "      <td>2</td>\n",
              "      <td>74</td>\n",
              "      <td>69</td>\n",
              "      <td>17</td>\n",
              "      <td>94</td>\n",
              "      <td>52</td>\n",
              "      <td>1</td>\n",
              "    </tr>\n",
              "  </tbody>\n",
              "</table>\n",
              "</div>"
            ],
            "text/plain": [
              "         No.  NIVEL  ZONA_ESCOLAR  ...  DIRECCIÃN  CÃDIGO_POSTAL  ESTADO\n",
              "count     97     97            97  ...          97              95      97\n",
              "size      97     97            97  ...          97              97      97\n",
              "nunique   97      6            20  ...          94              52       1\n",
              "\n",
              "[3 rows x 12 columns]"
            ]
          },
          "metadata": {
            "tags": []
          },
          "execution_count": 56
        }
      ]
    },
    {
      "cell_type": "code",
      "metadata": {
        "id": "FRUGmwqT0QEC",
        "colab_type": "code",
        "outputId": "63f13767-9d9d-48dd-904c-972ed6f263c9",
        "colab": {
          "base_uri": "https://localhost:8080/",
          "height": 34
        }
      },
      "source": [
        "list(df['TURNO'].unique())"
      ],
      "execution_count": 0,
      "outputs": [
        {
          "output_type": "execute_result",
          "data": {
            "text/plain": [
              "['Matutino', 'Vespertino']"
            ]
          },
          "metadata": {
            "tags": []
          },
          "execution_count": 57
        }
      ]
    },
    {
      "cell_type": "code",
      "metadata": {
        "id": "mLMHaJkp0XHL",
        "colab_type": "code",
        "outputId": "b7492345-20c3-4c05-8e90-63f838cf84cb",
        "colab": {
          "base_uri": "https://localhost:8080/",
          "height": 34
        }
      },
      "source": [
        "list(df['ZONA_ESCOLAR'].unique())"
      ],
      "execution_count": 0,
      "outputs": [
        {
          "output_type": "execute_result",
          "data": {
            "text/plain": [
              "[1, 2, 3, 4, 5, 6, 7, 8, 9, 10, 11, 12, 13, 14, 15, 16, 17, 18, 19, 20]"
            ]
          },
          "metadata": {
            "tags": []
          },
          "execution_count": 58
        }
      ]
    },
    {
      "cell_type": "code",
      "metadata": {
        "id": "kcbZWJzZ0eL6",
        "colab_type": "code",
        "outputId": "e25a7096-de75-4f39-dda1-e9a54d2bf078",
        "colab": {
          "base_uri": "https://localhost:8080/",
          "height": 34
        }
      },
      "source": [
        "keys = list(df['TURNO'].unique())\n",
        "vals = range(1,8)\n",
        "act = dict(zip(keys, vals))\n",
        "act"
      ],
      "execution_count": 0,
      "outputs": [
        {
          "output_type": "execute_result",
          "data": {
            "text/plain": [
              "{'Matutino': 1, 'Vespertino': 2}"
            ]
          },
          "metadata": {
            "tags": []
          },
          "execution_count": 59
        }
      ]
    },
    {
      "cell_type": "code",
      "metadata": {
        "id": "_EfI9rWm0k8c",
        "colab_type": "code",
        "outputId": "8c67c5f4-eae6-4c2b-ba35-3bd72d2726fd",
        "colab": {
          "base_uri": "https://localhost:8080/",
          "height": 467
        }
      },
      "source": [
        "df_copy['TURNO'] = df['TURNO'].map(act)\n",
        "df_copy.head()"
      ],
      "execution_count": 0,
      "outputs": [
        {
          "output_type": "execute_result",
          "data": {
            "text/html": [
              "<div>\n",
              "<style scoped>\n",
              "    .dataframe tbody tr th:only-of-type {\n",
              "        vertical-align: middle;\n",
              "    }\n",
              "\n",
              "    .dataframe tbody tr th {\n",
              "        vertical-align: top;\n",
              "    }\n",
              "\n",
              "    .dataframe thead th {\n",
              "        text-align: right;\n",
              "    }\n",
              "</style>\n",
              "<table border=\"1\" class=\"dataframe\">\n",
              "  <thead>\n",
              "    <tr style=\"text-align: right;\">\n",
              "      <th></th>\n",
              "      <th>No.</th>\n",
              "      <th>NIVEL</th>\n",
              "      <th>ZONA_ESCOLAR</th>\n",
              "      <th>NOMBRE DE ESCUELA</th>\n",
              "      <th>CLAVE_DEL_CENTRO_DE_TRABAJO</th>\n",
              "      <th>TURNO</th>\n",
              "      <th>NâMERO_ALUMNAS</th>\n",
              "      <th>NâMERO_ALUMNOS</th>\n",
              "      <th>MUNICIPIO</th>\n",
              "      <th>DIRECCIÃN</th>\n",
              "      <th>CÃDIGO_POSTAL</th>\n",
              "      <th>ESTADO</th>\n",
              "    </tr>\n",
              "  </thead>\n",
              "  <tbody>\n",
              "    <tr>\n",
              "      <th>0</th>\n",
              "      <td>1</td>\n",
              "      <td>INICIAL</td>\n",
              "      <td>1</td>\n",
              "      <td>Mercedes MÃ©ndez Contreras</td>\n",
              "      <td>24EPR0199E</td>\n",
              "      <td>1</td>\n",
              "      <td>146</td>\n",
              "      <td>139</td>\n",
              "      <td>Soledad de Graciano SÃ¡nchez</td>\n",
              "      <td>Calle Circuito Ote S/N, Ponciano Arriaga</td>\n",
              "      <td>78437.0</td>\n",
              "      <td>San Luis PotosÃ­</td>\n",
              "    </tr>\n",
              "    <tr>\n",
              "      <th>1</th>\n",
              "      <td>2</td>\n",
              "      <td>INICIAL</td>\n",
              "      <td>1</td>\n",
              "      <td>Guadalupe Rodea de Jonguitud</td>\n",
              "      <td>24EDI0008L</td>\n",
              "      <td>1</td>\n",
              "      <td>66</td>\n",
              "      <td>78</td>\n",
              "      <td>San Luis PotosÃ­</td>\n",
              "      <td>Vallarta 155, Barrio de Tequisquiapan</td>\n",
              "      <td>78230.0</td>\n",
              "      <td>San Luis PotosÃ­</td>\n",
              "    </tr>\n",
              "    <tr>\n",
              "      <th>2</th>\n",
              "      <td>3</td>\n",
              "      <td>INICIAL</td>\n",
              "      <td>2</td>\n",
              "      <td>Profra. Ether MÃ©ndez LÃ³pez</td>\n",
              "      <td>24EDI0010Z</td>\n",
              "      <td>1</td>\n",
              "      <td>102</td>\n",
              "      <td>114</td>\n",
              "      <td>San Luis PotosÃ­</td>\n",
              "      <td>Prol. Moctezuma 1305</td>\n",
              "      <td>78030.0</td>\n",
              "      <td>San Luis PotosÃ­</td>\n",
              "    </tr>\n",
              "    <tr>\n",
              "      <th>3</th>\n",
              "      <td>4</td>\n",
              "      <td>INICIAL</td>\n",
              "      <td>2</td>\n",
              "      <td>Ma. Guadalupe Barrientos</td>\n",
              "      <td>24EDI0019R</td>\n",
              "      <td>1</td>\n",
              "      <td>70</td>\n",
              "      <td>75</td>\n",
              "      <td>Soledad de Graciano SÃ¡nchez</td>\n",
              "      <td>BerriozÃ¡bal No 98, Zona Centro</td>\n",
              "      <td>78433.0</td>\n",
              "      <td>San Luis PotosÃ­</td>\n",
              "    </tr>\n",
              "    <tr>\n",
              "      <th>4</th>\n",
              "      <td>5</td>\n",
              "      <td>INICIAL</td>\n",
              "      <td>2</td>\n",
              "      <td>Profra. Francisca Zavala Salazar</td>\n",
              "      <td>24EDI0015V</td>\n",
              "      <td>1</td>\n",
              "      <td>55</td>\n",
              "      <td>58</td>\n",
              "      <td>Rioverde</td>\n",
              "      <td>Galeana 123, Zona Centro</td>\n",
              "      <td>79610.0</td>\n",
              "      <td>San Luis PotosÃ­</td>\n",
              "    </tr>\n",
              "  </tbody>\n",
              "</table>\n",
              "</div>"
            ],
            "text/plain": [
              "   No.    NIVEL  ...  CÃDIGO_POSTAL            ESTADO\n",
              "0    1  INICIAL  ...         78437.0  San Luis PotosÃ­\n",
              "1    2  INICIAL  ...         78230.0  San Luis PotosÃ­\n",
              "2    3  INICIAL  ...         78030.0  San Luis PotosÃ­\n",
              "3    4  INICIAL  ...         78433.0  San Luis PotosÃ­\n",
              "4    5  INICIAL  ...         79610.0  San Luis PotosÃ­\n",
              "\n",
              "[5 rows x 12 columns]"
            ]
          },
          "metadata": {
            "tags": []
          },
          "execution_count": 60
        }
      ]
    },
    {
      "cell_type": "code",
      "metadata": {
        "id": "QYKcK4v-047l",
        "colab_type": "code",
        "outputId": "72c08f67-bb10-4f6f-e10d-3cb75a8e92b1",
        "colab": {
          "base_uri": "https://localhost:8080/",
          "height": 34
        }
      },
      "source": [
        "list(df_copy['TURNO'].unique())"
      ],
      "execution_count": 0,
      "outputs": [
        {
          "output_type": "execute_result",
          "data": {
            "text/plain": [
              "[1, 2]"
            ]
          },
          "metadata": {
            "tags": []
          },
          "execution_count": 64
        }
      ]
    },
    {
      "cell_type": "code",
      "metadata": {
        "id": "tyKV0qTj1B42",
        "colab_type": "code",
        "outputId": "85511a7b-410f-4edc-b1e7-8dcc69e2f615",
        "colab": {
          "base_uri": "https://localhost:8080/",
          "height": 34
        }
      },
      "source": [
        "df_copy['ZONA_ESCOLAR'].mean()"
      ],
      "execution_count": 0,
      "outputs": [
        {
          "output_type": "execute_result",
          "data": {
            "text/plain": [
              "8.422680412371134"
            ]
          },
          "metadata": {
            "tags": []
          },
          "execution_count": 70
        }
      ]
    },
    {
      "cell_type": "code",
      "metadata": {
        "id": "OSyzALXP14gy",
        "colab_type": "code",
        "outputId": "2aa2b054-4027-424f-ad9d-f10ad17b3bff",
        "colab": {
          "base_uri": "https://localhost:8080/",
          "height": 141
        }
      },
      "source": [
        "df_copy['TURNO'][df_copy['ZONA_ESCOLAR'] == 6]"
      ],
      "execution_count": 0,
      "outputs": [
        {
          "output_type": "execute_result",
          "data": {
            "text/plain": [
              "16    1\n",
              "17    1\n",
              "44    1\n",
              "45    1\n",
              "86    1\n",
              "87    1\n",
              "Name: TURNO, dtype: int64"
            ]
          },
          "metadata": {
            "tags": []
          },
          "execution_count": 72
        }
      ]
    },
    {
      "cell_type": "code",
      "metadata": {
        "id": "KP1pOWfl2HV0",
        "colab_type": "code",
        "outputId": "6ad6be07-d430-4e17-c39b-49c24158e969",
        "colab": {
          "base_uri": "https://localhost:8080/",
          "height": 34
        }
      },
      "source": [
        "\n",
        "df_copy['TURNO'][df_copy['ZONA_ESCOLAR'] == 6].mean()"
      ],
      "execution_count": 0,
      "outputs": [
        {
          "output_type": "execute_result",
          "data": {
            "text/plain": [
              "1.0"
            ]
          },
          "metadata": {
            "tags": []
          },
          "execution_count": 75
        }
      ]
    },
    {
      "cell_type": "code",
      "metadata": {
        "id": "QDIdHHDq2YcC",
        "colab_type": "code",
        "colab": {}
      },
      "source": [
        "df_copy.groupby([\"TURNO\", \"ZONA_ESCOLAR\", \"CLAVE_DEL_CENTRO_DE_TRABAJO\"]).count()"
      ],
      "execution_count": 0,
      "outputs": []
    },
    {
      "cell_type": "code",
      "metadata": {
        "id": "3Q0_5cPi3DBN",
        "colab_type": "code",
        "colab": {}
      },
      "source": [
        "df_copy.groupby([\"CLAVE_DEL_CENTRO_DE_TRABAJO\", \"ZONA_ESCOLAR\"])[[\"CLAVE_DEL_CENTRO_DE_TRABAJO\", \"MUNICIPIO\"]].count()"
      ],
      "execution_count": 0,
      "outputs": []
    },
    {
      "cell_type": "code",
      "metadata": {
        "id": "hwgmNHqZ3N-z",
        "colab_type": "code",
        "colab": {}
      },
      "source": [
        "df_sample = df.sample(frac=0.05, random_state=1)\n",
        "df_sample.head()"
      ],
      "execution_count": 0,
      "outputs": []
    },
    {
      "cell_type": "code",
      "metadata": {
        "id": "iFIbfsxJ3WEZ",
        "colab_type": "code",
        "colab": {}
      },
      "source": [
        "df_sample.groupby([\"ESTADO\",  \"MUNICIPIO\"])[[\"ZONA_ESCOLAR\"]].agg([np.sum, np.mean,\n",
        "                                                              np.count_nonzero])"
      ],
      "execution_count": 0,
      "outputs": []
    },
    {
      "cell_type": "code",
      "metadata": {
        "id": "lH0LBjXP4i3s",
        "colab_type": "code",
        "outputId": "0879ad7d-033c-45ec-a01d-f969e1615133",
        "colab": {
          "base_uri": "https://localhost:8080/",
          "height": 197
        }
      },
      "source": [
        "df_sample.groupby([\"ESTADO\", \"NâMERO_ALUMNOS\"]).agg({'ZONA_ESCOLAR':np.mean,'TURNO':np.max})"
      ],
      "execution_count": 0,
      "outputs": [
        {
          "output_type": "execute_result",
          "data": {
            "text/html": [
              "<div>\n",
              "<style scoped>\n",
              "    .dataframe tbody tr th:only-of-type {\n",
              "        vertical-align: middle;\n",
              "    }\n",
              "\n",
              "    .dataframe tbody tr th {\n",
              "        vertical-align: top;\n",
              "    }\n",
              "\n",
              "    .dataframe thead th {\n",
              "        text-align: right;\n",
              "    }\n",
              "</style>\n",
              "<table border=\"1\" class=\"dataframe\">\n",
              "  <thead>\n",
              "    <tr style=\"text-align: right;\">\n",
              "      <th></th>\n",
              "      <th></th>\n",
              "      <th>ZONA_ESCOLAR</th>\n",
              "      <th>TURNO</th>\n",
              "    </tr>\n",
              "    <tr>\n",
              "      <th>ESTADO</th>\n",
              "      <th>NâMERO_ALUMNOS</th>\n",
              "      <th></th>\n",
              "      <th></th>\n",
              "    </tr>\n",
              "  </thead>\n",
              "  <tbody>\n",
              "    <tr>\n",
              "      <th rowspan=\"4\" valign=\"top\">San Luis PotosÃ­</th>\n",
              "      <th>106</th>\n",
              "      <td>13.0</td>\n",
              "      <td>Matutino</td>\n",
              "    </tr>\n",
              "    <tr>\n",
              "      <th>158</th>\n",
              "      <td>6.0</td>\n",
              "      <td>Matutino</td>\n",
              "    </tr>\n",
              "    <tr>\n",
              "      <th>16</th>\n",
              "      <td>10.5</td>\n",
              "      <td>Matutino</td>\n",
              "    </tr>\n",
              "    <tr>\n",
              "      <th>57</th>\n",
              "      <td>13.0</td>\n",
              "      <td>Matutino</td>\n",
              "    </tr>\n",
              "  </tbody>\n",
              "</table>\n",
              "</div>"
            ],
            "text/plain": [
              "                                   ZONA_ESCOLAR     TURNO\n",
              "ESTADO           NâMERO_ALUMNOS                        \n",
              "San Luis PotosÃ­ 106                       13.0  Matutino\n",
              "                 158                        6.0  Matutino\n",
              "                 16                        10.5  Matutino\n",
              "                 57                        13.0  Matutino"
            ]
          },
          "metadata": {
            "tags": []
          },
          "execution_count": 96
        }
      ]
    },
    {
      "cell_type": "code",
      "metadata": {
        "id": "2hotnINI5O5Z",
        "colab_type": "code",
        "outputId": "3c53faf6-b554-43e9-c810-5efcf5e07bb2",
        "colab": {
          "base_uri": "https://localhost:8080/",
          "height": 265
        }
      },
      "source": [
        "%matplotlib inline\n",
        "import matplotlib.pyplot as plt\n",
        "plt.style.use('seaborn-white')\n",
        "\n",
        "ax1 = plt.axes()  # standard axes\n",
        "ax2 = plt.axes([0.65, 0.65, 0.2, 0.2])"
      ],
      "execution_count": 0,
      "outputs": [
        {
          "output_type": "display_data",
          "data": {
            "image/png": "[encoded data removed]",
            "text/plain": [
              "<Figure size 432x288 with 2 Axes>"
            ]
          },
          "metadata": {
            "tags": []
          }
        }
      ]
    },
    {
      "cell_type": "code",
      "metadata": {
        "id": "xfJP_yLW5YPD",
        "colab_type": "code",
        "outputId": "4002d73a-0320-4ce6-b8f2-23fd272fe034",
        "colab": {
          "base_uri": "https://localhost:8080/",
          "height": 292
        }
      },
      "source": [
        "fig = plt.figure()\n",
        "ax1 = fig.add_axes([0.1, 0.5, 0.8, 0.4],\n",
        "                   xticklabels=[], ylim=(-1.2, 1.2))\n",
        "ax2 = fig.add_axes([0.1, 0.1, 0.8, 0.4],\n",
        "                   ylim=(-1.2, 1.2))\n",
        "\n",
        "x = np.linspace(0, 10)\n",
        "ax1.plot(np.sin(x))\n",
        "ax2.plot(np.cos(x))"
      ],
      "execution_count": 0,
      "outputs": [
        {
          "output_type": "execute_result",
          "data": {
            "text/plain": [
              "[<matplotlib.lines.Line2D at 0x7f30d38c2ba8>]"
            ]
          },
          "metadata": {
            "tags": []
          },
          "execution_count": 89
        },
        {
          "output_type": "display_data",
          "data": {
            "image/png": "[encoded data removed]",
            "text/plain": [
              "<Figure size 432x288 with 2 Axes>"
            ]
          },
          "metadata": {
            "tags": []
          }
        }
      ]
    },
    {
      "cell_type": "code",
      "metadata": {
        "id": "_9HWgHV15bnh",
        "colab_type": "code",
        "outputId": "c0d6e4b4-2e8b-44ae-aaa5-4e05e39adf92",
        "colab": {
          "base_uri": "https://localhost:8080/",
          "height": 265
        }
      },
      "source": [
        "for i in range(1, 7):\n",
        "    plt.subplot(2, 3, i)\n",
        "    plt.text(0.5, 0.5, str((2, 3, i)),\n",
        "             fontsize=18, ha='center')"
      ],
      "execution_count": 0,
      "outputs": [
        {
          "output_type": "display_data",
          "data": {
            "image/png": "[encoded data removed]",
            "text/plain": [
              "<Figure size 432x288 with 6 Axes>"
            ]
          },
          "metadata": {
            "tags": []
          }
        }
      ]
    },
    {
      "cell_type": "code",
      "metadata": {
        "id": "KU8ny_US5tF7",
        "colab_type": "code",
        "outputId": "0c87f13d-968b-48ab-e465-120cb34a7a81",
        "colab": {
          "base_uri": "https://localhost:8080/",
          "height": 265
        }
      },
      "source": [
        "fig = plt.figure()\n",
        "fig.subplots_adjust(hspace=0.4, wspace=0.4)\n",
        "for i in range(1, 7):\n",
        "    ax = fig.add_subplot(2, 3, i)\n",
        "    ax.text(0.5, 0.5, str((2, 3, i)),\n",
        "           fontsize=18, ha='center')"
      ],
      "execution_count": 0,
      "outputs": [
        {
          "output_type": "display_data",
          "data": {
            "image/png": "[encoded data removed]",
            "text/plain": [
              "<Figure size 432x288 with 6 Axes>"
            ]
          },
          "metadata": {
            "tags": []
          }
        }
      ]
    },
    {
      "cell_type": "code",
      "metadata": {
        "id": "qajc5VVp5v8b",
        "colab_type": "code",
        "outputId": "e40e37e4-5173-4191-d70d-9796edcffd54",
        "colab": {
          "base_uri": "https://localhost:8080/",
          "height": 265
        }
      },
      "source": [
        "fig, ax = plt.subplots(2, 3, sharex='col', sharey='row')"
      ],
      "execution_count": 0,
      "outputs": [
        {
          "output_type": "display_data",
          "data": {
            "image/png": "[encoded data removed]",
            "text/plain": [
              "<Figure size 432x288 with 6 Axes>"
            ]
          },
          "metadata": {
            "tags": []
          }
        }
      ]
    },
    {
      "cell_type": "code",
      "metadata": {
        "id": "wr8PwzvK5zg0",
        "colab_type": "code",
        "outputId": "769ad222-ee97-4149-bf29-41f8cee2fc74",
        "colab": {
          "base_uri": "https://localhost:8080/",
          "height": 265
        }
      },
      "source": [
        "for i in range(2):\n",
        "    for j in range(3):\n",
        "        ax[i, j].text(0.5, 0.5, str((i, j)),\n",
        "                      fontsize=18, ha='center')\n",
        "fig"
      ],
      "execution_count": 0,
      "outputs": [
        {
          "output_type": "execute_result",
          "data": {
            "image/png": "[encoded data removed]",
            "text/plain": [
              "<Figure size 432x288 with 6 Axes>"
            ]
          },
          "metadata": {
            "tags": []
          },
          "execution_count": 93
        }
      ]
    },
    {
      "cell_type": "code",
      "metadata": {
        "id": "Rz5pu6w_53BM",
        "colab_type": "code",
        "outputId": "edfcfe7f-adc8-42af-ec37-b8d6ebd963c9",
        "colab": {
          "base_uri": "https://localhost:8080/",
          "height": 371
        }
      },
      "source": [
        "mean = [0, 0]\n",
        "cov = [[1, 1], [1, 2]]\n",
        "x, y = np.random.multivariate_normal(mean, cov, 3000).T\n",
        "\n",
        "# Set up the axes with gridspec\n",
        "fig = plt.figure(figsize=(6, 6))\n",
        "grid = plt.GridSpec(4, 4, hspace=0.2, wspace=0.2)\n",
        "main_ax = fig.add_subplot(grid[:-1, 1:])\n",
        "y_hist = fig.add_subplot(grid[:-1, 0], xticklabels=[], sharey=main_ax)\n",
        "x_hist = fig.add_subplot(grid[-1, 1:], yticklabels=[], sharex=main_ax)\n",
        "\n",
        "# scatter points on the main axes\n",
        "main_ax.plot(x, y, 'ok', markersize=3, alpha=0.2)\n",
        "\n",
        "# histogram on the attached axes\n",
        "x_hist.hist(x, 40, histtype='stepfilled',\n",
        "            orientation='vertical', color='gray')\n",
        "x_hist.invert_yaxis()\n",
        "\n",
        "y_hist.hist(y, 40, histtype='stepfilled',\n",
        "            orientation='horizontal', color='gray')\n",
        "y_hist.invert_xaxis()"
      ],
      "execution_count": 0,
      "outputs": [
        {
          "output_type": "display_data",
          "data": {
            "image/png": "[encoded data removed]",
            "text/plain": [
              "<Figure size 432x432 with 3 Axes>"
            ]
          },
          "metadata": {
            "tags": []
          }
        }
      ]
    },
    {
      "cell_type": "code",
      "metadata": {
        "id": "5DN5BO8s59mj",
        "colab_type": "code",
        "outputId": "a9c6364d-6e5e-497b-d00c-83b620e55a60",
        "colab": {
          "base_uri": "https://localhost:8080/",
          "height": 308
        }
      },
      "source": [
        "df_sample['ZONA_ESCOLAR'] = df_sample['ZONA_ESCOLAR'].astype('int64')\n",
        "plt.hist(df_sample['ZONA_ESCOLAR'])\n",
        "plt.xlabel('ZONA_ESCOLAR')\n",
        "plt.ylabel('Frequency')\n",
        "plt.title('Frequency of ZONA_ESCOLAR')"
      ],
      "execution_count": 0,
      "outputs": [
        {
          "output_type": "execute_result",
          "data": {
            "text/plain": [
              "Text(0.5, 1.0, 'Frequency of ZONA_ESCOLAR')"
            ]
          },
          "metadata": {
            "tags": []
          },
          "execution_count": 103
        },
        {
          "output_type": "display_data",
          "data": {
            "image/png": "[encoded data removed]",
            "text/plain": [
              "<Figure size 432x288 with 1 Axes>"
            ]
          },
          "metadata": {
            "tags": []
          }
        }
      ]
    },
    {
      "cell_type": "code",
      "metadata": {
        "id": "GzXp6k5z8Gfq",
        "colab_type": "code",
        "outputId": "6518f766-f0d1-4dea-b236-534a5ee4d5ea",
        "colab": {
          "base_uri": "https://localhost:8080/",
          "height": 294
        }
      },
      "source": [
        "plt.boxplot(df_sample['ZONA_ESCOLAR'], showmeans=True, meanline=True)\n",
        "plt.ylabel('ZONA_ESCOLAR count')\n",
        "plt.title('Box Plot of ZONA_ESCOLAR count')"
      ],
      "execution_count": 0,
      "outputs": [
        {
          "output_type": "execute_result",
          "data": {
            "text/plain": [
              "Text(0.5, 1.0, 'Box Plot of ZONA_ESCOLAR count')"
            ]
          },
          "metadata": {
            "tags": []
          },
          "execution_count": 104
        },
        {
          "output_type": "display_data",
          "data": {
            "image/png": "[encoded data removed]",
            "text/plain": [
              "<Figure size 432x288 with 1 Axes>"
            ]
          },
          "metadata": {
            "tags": []
          }
        }
      ]
    }
  ]
}