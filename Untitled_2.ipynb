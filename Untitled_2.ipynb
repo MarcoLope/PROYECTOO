{
  "nbformat": 4,
  "nbformat_minor": 0,
  "metadata": {
    "colab": {
      "name": "Untitled",
      "provenance": [],
      "collapsed_sections": [],
      "authorship_tag": "ABX9TyPWuIRYjRqmlwMbQZYYsY6y",
      "include_colab_link": true
    },
    "kernelspec": {
      "name": "python3",
      "display_name": "Python 3"
    }
  },
  "cells": [
    {
      "cell_type": "markdown",
      "metadata": {
        "id": "view-in-github",
        "colab_type": "text"
      },
      "source": [
        "<a href=\"https://colab.research.google.com/github/MarcoLope/PROYECTOO/blob/master/Untitled_2.ipynb\" target=\"_parent\"><img src=\"https://colab.research.google.com/assets/colab-badge.svg\" alt=\"Open In Colab\"/></a>"
      ]
    },
    {
      "cell_type": "code",
      "metadata": {
        "id": "Yetmt7o-r7n2",
        "colab_type": "code",
        "colab": {}
      },
      "source": [
        "import pandas as pd\n",
        "import numpy as np\n",
        "import missingno as msno\n",
        "%matplotlib inline"
      ],
      "execution_count": 0,
      "outputs": []
    },
    {
      "cell_type": "code",
      "metadata": {
        "id": "qpsyo3nFsC2i",
        "colab_type": "code",
        "colab": {
          "base_uri": "https://localhost:8080/",
          "height": 197
        },
        "outputId": "1fc61c75-d07c-47aa-a110-9ca2c99e6869"
      },
      "source": [
        "path = '/content/CASO PARA ANALISTA  NIELSEN.csv'\n",
        "df = pd.read_csv(path, encoding='latin', error_bad_lines=False)\n",
        "df.head()"
      ],
      "execution_count": 22,
      "outputs": [
        {
          "output_type": "execute_result",
          "data": {
            "text/html": [
              "<div>\n",
              "<style scoped>\n",
              "    .dataframe tbody tr th:only-of-type {\n",
              "        vertical-align: middle;\n",
              "    }\n",
              "\n",
              "    .dataframe tbody tr th {\n",
              "        vertical-align: top;\n",
              "    }\n",
              "\n",
              "    .dataframe thead th {\n",
              "        text-align: right;\n",
              "    }\n",
              "</style>\n",
              "<table border=\"1\" class=\"dataframe\">\n",
              "  <thead>\n",
              "    <tr style=\"text-align: right;\">\n",
              "      <th></th>\n",
              "      <th>Id_de_Tienda</th>\n",
              "      <th>Tipo_de_tienda</th>\n",
              "      <th>Estado</th>\n",
              "      <th>Vtas_Enero</th>\n",
              "      <th>Vtas_Febrero</th>\n",
              "      <th>Vtas_Marzo</th>\n",
              "      <th>Vtas_Abril</th>\n",
              "      <th>Vtas_Mayo</th>\n",
              "      <th>Vtas_Junio</th>\n",
              "      <th>empleados</th>\n",
              "    </tr>\n",
              "  </thead>\n",
              "  <tbody>\n",
              "    <tr>\n",
              "      <th>0</th>\n",
              "      <td>30001</td>\n",
              "      <td>Supermercado</td>\n",
              "      <td>Baja California</td>\n",
              "      <td>23.93</td>\n",
              "      <td>20.76</td>\n",
              "      <td>18.41</td>\n",
              "      <td>15.24</td>\n",
              "      <td>18.93</td>\n",
              "      <td>17.93</td>\n",
              "      <td>176</td>\n",
              "    </tr>\n",
              "    <tr>\n",
              "      <th>1</th>\n",
              "      <td>30002</td>\n",
              "      <td>Supermercado</td>\n",
              "      <td>Baja California</td>\n",
              "      <td>47.78</td>\n",
              "      <td>43.83</td>\n",
              "      <td>41.52</td>\n",
              "      <td>40.35</td>\n",
              "      <td>43.84</td>\n",
              "      <td>44.20</td>\n",
              "      <td>275</td>\n",
              "    </tr>\n",
              "    <tr>\n",
              "      <th>2</th>\n",
              "      <td>30003</td>\n",
              "      <td>Supermercado</td>\n",
              "      <td>Baja California</td>\n",
              "      <td>26.38</td>\n",
              "      <td>16.92</td>\n",
              "      <td>21.26</td>\n",
              "      <td>18.52</td>\n",
              "      <td>21.13</td>\n",
              "      <td>19.48</td>\n",
              "      <td>246</td>\n",
              "    </tr>\n",
              "    <tr>\n",
              "      <th>3</th>\n",
              "      <td>30004</td>\n",
              "      <td>Supermercado</td>\n",
              "      <td>Baja California</td>\n",
              "      <td>14.38</td>\n",
              "      <td>5.97</td>\n",
              "      <td>9.65</td>\n",
              "      <td>10.04</td>\n",
              "      <td>5.04</td>\n",
              "      <td>10.14</td>\n",
              "      <td>164</td>\n",
              "    </tr>\n",
              "    <tr>\n",
              "      <th>4</th>\n",
              "      <td>30005</td>\n",
              "      <td>Supermercado</td>\n",
              "      <td>Baja California</td>\n",
              "      <td>49.92</td>\n",
              "      <td>43.95</td>\n",
              "      <td>40.88</td>\n",
              "      <td>40.84</td>\n",
              "      <td>42.91</td>\n",
              "      <td>45.19</td>\n",
              "      <td>130</td>\n",
              "    </tr>\n",
              "  </tbody>\n",
              "</table>\n",
              "</div>"
            ],
            "text/plain": [
              "   Id_de_Tienda Tipo_de_tienda  ... Vtas_Junio  empleados\n",
              "0         30001   Supermercado  ...      17.93        176\n",
              "1         30002   Supermercado  ...      44.20        275\n",
              "2         30003   Supermercado  ...      19.48        246\n",
              "3         30004   Supermercado  ...      10.14        164\n",
              "4         30005   Supermercado  ...      45.19        130\n",
              "\n",
              "[5 rows x 10 columns]"
            ]
          },
          "metadata": {
            "tags": []
          },
          "execution_count": 22
        }
      ]
    },
    {
      "cell_type": "code",
      "metadata": {
        "id": "OrJIJng7sgv0",
        "colab_type": "code",
        "colab": {}
      },
      "source": [
        "df.loc[60:70]"
      ],
      "execution_count": 0,
      "outputs": []
    },
    {
      "cell_type": "code",
      "metadata": {
        "id": "J5BNpN89JxZP",
        "colab_type": "code",
        "outputId": "cbba1f59-a118-488b-ed29-ab455b146880",
        "colab": {
          "base_uri": "https://localhost:8080/",
          "height": 197
        }
      },
      "source": [
        "df.drop([0,5,19], axis=0).head()"
      ],
      "execution_count": 23,
      "outputs": [
        {
          "output_type": "execute_result",
          "data": {
            "text/html": [
              "<div>\n",
              "<style scoped>\n",
              "    .dataframe tbody tr th:only-of-type {\n",
              "        vertical-align: middle;\n",
              "    }\n",
              "\n",
              "    .dataframe tbody tr th {\n",
              "        vertical-align: top;\n",
              "    }\n",
              "\n",
              "    .dataframe thead th {\n",
              "        text-align: right;\n",
              "    }\n",
              "</style>\n",
              "<table border=\"1\" class=\"dataframe\">\n",
              "  <thead>\n",
              "    <tr style=\"text-align: right;\">\n",
              "      <th></th>\n",
              "      <th>Id_de_Tienda</th>\n",
              "      <th>Tipo_de_tienda</th>\n",
              "      <th>Estado</th>\n",
              "      <th>Vtas_Enero</th>\n",
              "      <th>Vtas_Febrero</th>\n",
              "      <th>Vtas_Marzo</th>\n",
              "      <th>Vtas_Abril</th>\n",
              "      <th>Vtas_Mayo</th>\n",
              "      <th>Vtas_Junio</th>\n",
              "      <th>empleados</th>\n",
              "    </tr>\n",
              "  </thead>\n",
              "  <tbody>\n",
              "    <tr>\n",
              "      <th>1</th>\n",
              "      <td>30002</td>\n",
              "      <td>Supermercado</td>\n",
              "      <td>Baja California</td>\n",
              "      <td>47.78</td>\n",
              "      <td>43.83</td>\n",
              "      <td>41.52</td>\n",
              "      <td>40.35</td>\n",
              "      <td>43.84</td>\n",
              "      <td>44.20</td>\n",
              "      <td>275</td>\n",
              "    </tr>\n",
              "    <tr>\n",
              "      <th>2</th>\n",
              "      <td>30003</td>\n",
              "      <td>Supermercado</td>\n",
              "      <td>Baja California</td>\n",
              "      <td>26.38</td>\n",
              "      <td>16.92</td>\n",
              "      <td>21.26</td>\n",
              "      <td>18.52</td>\n",
              "      <td>21.13</td>\n",
              "      <td>19.48</td>\n",
              "      <td>246</td>\n",
              "    </tr>\n",
              "    <tr>\n",
              "      <th>3</th>\n",
              "      <td>30004</td>\n",
              "      <td>Supermercado</td>\n",
              "      <td>Baja California</td>\n",
              "      <td>14.38</td>\n",
              "      <td>5.97</td>\n",
              "      <td>9.65</td>\n",
              "      <td>10.04</td>\n",
              "      <td>5.04</td>\n",
              "      <td>10.14</td>\n",
              "      <td>164</td>\n",
              "    </tr>\n",
              "    <tr>\n",
              "      <th>4</th>\n",
              "      <td>30005</td>\n",
              "      <td>Supermercado</td>\n",
              "      <td>Baja California</td>\n",
              "      <td>49.92</td>\n",
              "      <td>43.95</td>\n",
              "      <td>40.88</td>\n",
              "      <td>40.84</td>\n",
              "      <td>42.91</td>\n",
              "      <td>45.19</td>\n",
              "      <td>130</td>\n",
              "    </tr>\n",
              "    <tr>\n",
              "      <th>6</th>\n",
              "      <td>30007</td>\n",
              "      <td>Supermercado</td>\n",
              "      <td>Baja California</td>\n",
              "      <td>20.06</td>\n",
              "      <td>15.14</td>\n",
              "      <td>10.49</td>\n",
              "      <td>16.71</td>\n",
              "      <td>10.46</td>\n",
              "      <td>13.53</td>\n",
              "      <td>164</td>\n",
              "    </tr>\n",
              "  </tbody>\n",
              "</table>\n",
              "</div>"
            ],
            "text/plain": [
              "   Id_de_Tienda Tipo_de_tienda  ... Vtas_Junio  empleados\n",
              "1         30002   Supermercado  ...      44.20        275\n",
              "2         30003   Supermercado  ...      19.48        246\n",
              "3         30004   Supermercado  ...      10.14        164\n",
              "4         30005   Supermercado  ...      45.19        130\n",
              "6         30007   Supermercado  ...      13.53        164\n",
              "\n",
              "[5 rows x 10 columns]"
            ]
          },
          "metadata": {
            "tags": []
          },
          "execution_count": 23
        }
      ]
    },
    {
      "cell_type": "code",
      "metadata": {
        "id": "i5qhg2URKEns",
        "colab_type": "code",
        "outputId": "b1738bb0-d4b3-415e-ebc3-821f10e1e39a",
        "colab": {
          "base_uri": "https://localhost:8080/",
          "height": 197
        }
      },
      "source": [
        "df[60:].head() #df.tail(-100) )"
      ],
      "execution_count": 24,
      "outputs": [
        {
          "output_type": "execute_result",
          "data": {
            "text/html": [
              "<div>\n",
              "<style scoped>\n",
              "    .dataframe tbody tr th:only-of-type {\n",
              "        vertical-align: middle;\n",
              "    }\n",
              "\n",
              "    .dataframe tbody tr th {\n",
              "        vertical-align: top;\n",
              "    }\n",
              "\n",
              "    .dataframe thead th {\n",
              "        text-align: right;\n",
              "    }\n",
              "</style>\n",
              "<table border=\"1\" class=\"dataframe\">\n",
              "  <thead>\n",
              "    <tr style=\"text-align: right;\">\n",
              "      <th></th>\n",
              "      <th>Id_de_Tienda</th>\n",
              "      <th>Tipo_de_tienda</th>\n",
              "      <th>Estado</th>\n",
              "      <th>Vtas_Enero</th>\n",
              "      <th>Vtas_Febrero</th>\n",
              "      <th>Vtas_Marzo</th>\n",
              "      <th>Vtas_Abril</th>\n",
              "      <th>Vtas_Mayo</th>\n",
              "      <th>Vtas_Junio</th>\n",
              "      <th>empleados</th>\n",
              "    </tr>\n",
              "  </thead>\n",
              "  <tbody>\n",
              "    <tr>\n",
              "      <th>60</th>\n",
              "      <td>30061</td>\n",
              "      <td>Minisuper</td>\n",
              "      <td>Mï¼¹ico</td>\n",
              "      <td>7.98</td>\n",
              "      <td>7.00</td>\n",
              "      <td>7.28</td>\n",
              "      <td>5.11</td>\n",
              "      <td>7.00</td>\n",
              "      <td>5.63</td>\n",
              "      <td>24</td>\n",
              "    </tr>\n",
              "    <tr>\n",
              "      <th>61</th>\n",
              "      <td>30062</td>\n",
              "      <td>Minisuper</td>\n",
              "      <td>Mï¼¹ico</td>\n",
              "      <td>13.56</td>\n",
              "      <td>12.87</td>\n",
              "      <td>10.59</td>\n",
              "      <td>10.87</td>\n",
              "      <td>13.06</td>\n",
              "      <td>11.43</td>\n",
              "      <td>28</td>\n",
              "    </tr>\n",
              "    <tr>\n",
              "      <th>62</th>\n",
              "      <td>30063</td>\n",
              "      <td>Minisuper</td>\n",
              "      <td>Mï¼¹ico</td>\n",
              "      <td>14.59</td>\n",
              "      <td>14.00</td>\n",
              "      <td>14.17</td>\n",
              "      <td>13.60</td>\n",
              "      <td>11.73</td>\n",
              "      <td>12.10</td>\n",
              "      <td>35</td>\n",
              "    </tr>\n",
              "    <tr>\n",
              "      <th>63</th>\n",
              "      <td>30064</td>\n",
              "      <td>Minisuper</td>\n",
              "      <td>Mï¼¹ico</td>\n",
              "      <td>10.72</td>\n",
              "      <td>8.43</td>\n",
              "      <td>8.54</td>\n",
              "      <td>10.27</td>\n",
              "      <td>8.40</td>\n",
              "      <td>8.61</td>\n",
              "      <td>46</td>\n",
              "    </tr>\n",
              "    <tr>\n",
              "      <th>64</th>\n",
              "      <td>30065</td>\n",
              "      <td>Minisuper</td>\n",
              "      <td>Mï¼¹ico</td>\n",
              "      <td>14.49</td>\n",
              "      <td>13.64</td>\n",
              "      <td>13.93</td>\n",
              "      <td>12.23</td>\n",
              "      <td>12.53</td>\n",
              "      <td>12.57</td>\n",
              "      <td>29</td>\n",
              "    </tr>\n",
              "  </tbody>\n",
              "</table>\n",
              "</div>"
            ],
            "text/plain": [
              "    Id_de_Tienda Tipo_de_tienda   Estado  ...  Vtas_Mayo  Vtas_Junio  empleados\n",
              "60         30061      Minisuper  Mï¼¹ico  ...       7.00        5.63         24\n",
              "61         30062      Minisuper  Mï¼¹ico  ...      13.06       11.43         28\n",
              "62         30063      Minisuper  Mï¼¹ico  ...      11.73       12.10         35\n",
              "63         30064      Minisuper  Mï¼¹ico  ...       8.40        8.61         46\n",
              "64         30065      Minisuper  Mï¼¹ico  ...      12.53       12.57         29\n",
              "\n",
              "[5 rows x 10 columns]"
            ]
          },
          "metadata": {
            "tags": []
          },
          "execution_count": 24
        }
      ]
    },
    {
      "cell_type": "code",
      "metadata": {
        "id": "Lmltb005KJrd",
        "colab_type": "code",
        "outputId": "a2c51de5-31e4-485d-8ac4-27effd3ae2fc",
        "colab": {
          "base_uri": "https://localhost:8080/",
          "height": 34
        }
      },
      "source": [
        "df.Tipo_de_tienda.unique()"
      ],
      "execution_count": 0,
      "outputs": [
        {
          "output_type": "execute_result",
          "data": {
            "text/plain": [
              "array(['Supermercado', 'Minisuper', 'Abarrotes'], dtype=object)"
            ]
          },
          "metadata": {
            "tags": []
          },
          "execution_count": 10
        }
      ]
    },
    {
      "cell_type": "code",
      "metadata": {
        "id": "DcMM0dnHKJoy",
        "colab_type": "code",
        "colab": {}
      },
      "source": [
        "df.id_empleado.value_counts()"
      ],
      "execution_count": 0,
      "outputs": []
    },
    {
      "cell_type": "code",
      "metadata": {
        "id": "hC_qD8r2K-7C",
        "colab_type": "code",
        "colab": {
          "base_uri": "https://localhost:8080/",
          "height": 137
        },
        "outputId": "4d114811-202d-4998-ca1c-cc1ed0fe24b1"
      },
      "source": [
        "df.agg(['count', 'size', 'nunique'])"
      ],
      "execution_count": 12,
      "outputs": [
        {
          "output_type": "execute_result",
          "data": {
            "text/html": [
              "<div>\n",
              "<style scoped>\n",
              "    .dataframe tbody tr th:only-of-type {\n",
              "        vertical-align: middle;\n",
              "    }\n",
              "\n",
              "    .dataframe tbody tr th {\n",
              "        vertical-align: top;\n",
              "    }\n",
              "\n",
              "    .dataframe thead th {\n",
              "        text-align: right;\n",
              "    }\n",
              "</style>\n",
              "<table border=\"1\" class=\"dataframe\">\n",
              "  <thead>\n",
              "    <tr style=\"text-align: right;\">\n",
              "      <th></th>\n",
              "      <th>Id_de_tienda</th>\n",
              "      <th>Tipo_de_tienda</th>\n",
              "      <th>Estado</th>\n",
              "      <th>Vtas_Enero</th>\n",
              "      <th>Vtas_Febrero</th>\n",
              "      <th>Vtas_Marzo</th>\n",
              "      <th>Vtas_Abril</th>\n",
              "      <th>Vtas_ Mayo</th>\n",
              "      <th>Vtas_ Junio</th>\n",
              "      <th>id_empleado</th>\n",
              "    </tr>\n",
              "  </thead>\n",
              "  <tbody>\n",
              "    <tr>\n",
              "      <th>count</th>\n",
              "      <td>2700</td>\n",
              "      <td>2700</td>\n",
              "      <td>2700</td>\n",
              "      <td>2700</td>\n",
              "      <td>2700</td>\n",
              "      <td>2700</td>\n",
              "      <td>2700</td>\n",
              "      <td>2700</td>\n",
              "      <td>2700</td>\n",
              "      <td>2700</td>\n",
              "    </tr>\n",
              "    <tr>\n",
              "      <th>size</th>\n",
              "      <td>2700</td>\n",
              "      <td>2700</td>\n",
              "      <td>2700</td>\n",
              "      <td>2700</td>\n",
              "      <td>2700</td>\n",
              "      <td>2700</td>\n",
              "      <td>2700</td>\n",
              "      <td>2700</td>\n",
              "      <td>2700</td>\n",
              "      <td>2700</td>\n",
              "    </tr>\n",
              "    <tr>\n",
              "      <th>nunique</th>\n",
              "      <td>2700</td>\n",
              "      <td>3</td>\n",
              "      <td>4</td>\n",
              "      <td>1143</td>\n",
              "      <td>1106</td>\n",
              "      <td>1106</td>\n",
              "      <td>1121</td>\n",
              "      <td>1123</td>\n",
              "      <td>1112</td>\n",
              "      <td>95</td>\n",
              "    </tr>\n",
              "  </tbody>\n",
              "</table>\n",
              "</div>"
            ],
            "text/plain": [
              "         Id_de_tienda  Tipo_de_tienda  ...  Vtas_ Junio  id_empleado\n",
              "count            2700            2700  ...         2700         2700\n",
              "size             2700            2700  ...         2700         2700\n",
              "nunique          2700               3  ...         1112           95\n",
              "\n",
              "[3 rows x 10 columns]"
            ]
          },
          "metadata": {
            "tags": []
          },
          "execution_count": 12
        }
      ]
    },
    {
      "cell_type": "code",
      "metadata": {
        "id": "yodOiBCNLyTV",
        "colab_type": "code",
        "colab": {
          "base_uri": "https://localhost:8080/",
          "height": 347
        },
        "outputId": "e536738a-3912-42b6-fa1a-b397b649771f"
      },
      "source": [
        "df.groupby('Tipo_de_tienda').agg(['count', 'size', 'nunique']).stack()"
      ],
      "execution_count": 13,
      "outputs": [
        {
          "output_type": "execute_result",
          "data": {
            "text/html": [
              "<div>\n",
              "<style scoped>\n",
              "    .dataframe tbody tr th:only-of-type {\n",
              "        vertical-align: middle;\n",
              "    }\n",
              "\n",
              "    .dataframe tbody tr th {\n",
              "        vertical-align: top;\n",
              "    }\n",
              "\n",
              "    .dataframe thead th {\n",
              "        text-align: right;\n",
              "    }\n",
              "</style>\n",
              "<table border=\"1\" class=\"dataframe\">\n",
              "  <thead>\n",
              "    <tr style=\"text-align: right;\">\n",
              "      <th></th>\n",
              "      <th></th>\n",
              "      <th>Id_de_tienda</th>\n",
              "      <th>Estado</th>\n",
              "      <th>Vtas_Enero</th>\n",
              "      <th>Vtas_Febrero</th>\n",
              "      <th>Vtas_Marzo</th>\n",
              "      <th>Vtas_Abril</th>\n",
              "      <th>Vtas_ Mayo</th>\n",
              "      <th>Vtas_ Junio</th>\n",
              "      <th>id_empleado</th>\n",
              "    </tr>\n",
              "    <tr>\n",
              "      <th>Tipo_de_tienda</th>\n",
              "      <th></th>\n",
              "      <th></th>\n",
              "      <th></th>\n",
              "      <th></th>\n",
              "      <th></th>\n",
              "      <th></th>\n",
              "      <th></th>\n",
              "      <th></th>\n",
              "      <th></th>\n",
              "      <th></th>\n",
              "    </tr>\n",
              "  </thead>\n",
              "  <tbody>\n",
              "    <tr>\n",
              "      <th rowspan=\"3\" valign=\"top\">Abarrotes</th>\n",
              "      <th>count</th>\n",
              "      <td>2250</td>\n",
              "      <td>2250</td>\n",
              "      <td>2250</td>\n",
              "      <td>2250</td>\n",
              "      <td>2250</td>\n",
              "      <td>2250</td>\n",
              "      <td>2250</td>\n",
              "      <td>2250</td>\n",
              "      <td>2250</td>\n",
              "    </tr>\n",
              "    <tr>\n",
              "      <th>size</th>\n",
              "      <td>2250</td>\n",
              "      <td>2250</td>\n",
              "      <td>2250</td>\n",
              "      <td>2250</td>\n",
              "      <td>2250</td>\n",
              "      <td>2250</td>\n",
              "      <td>2250</td>\n",
              "      <td>2250</td>\n",
              "      <td>2250</td>\n",
              "    </tr>\n",
              "    <tr>\n",
              "      <th>nunique</th>\n",
              "      <td>2250</td>\n",
              "      <td>3</td>\n",
              "      <td>730</td>\n",
              "      <td>734</td>\n",
              "      <td>732</td>\n",
              "      <td>737</td>\n",
              "      <td>747</td>\n",
              "      <td>738</td>\n",
              "      <td>15</td>\n",
              "    </tr>\n",
              "    <tr>\n",
              "      <th rowspan=\"3\" valign=\"top\">Minisuper</th>\n",
              "      <th>count</th>\n",
              "      <td>400</td>\n",
              "      <td>400</td>\n",
              "      <td>400</td>\n",
              "      <td>400</td>\n",
              "      <td>400</td>\n",
              "      <td>400</td>\n",
              "      <td>400</td>\n",
              "      <td>400</td>\n",
              "      <td>400</td>\n",
              "    </tr>\n",
              "    <tr>\n",
              "      <th>size</th>\n",
              "      <td>400</td>\n",
              "      <td>400</td>\n",
              "      <td>400</td>\n",
              "      <td>400</td>\n",
              "      <td>400</td>\n",
              "      <td>400</td>\n",
              "      <td>400</td>\n",
              "      <td>400</td>\n",
              "      <td>400</td>\n",
              "    </tr>\n",
              "    <tr>\n",
              "      <th>nunique</th>\n",
              "      <td>400</td>\n",
              "      <td>4</td>\n",
              "      <td>364</td>\n",
              "      <td>361</td>\n",
              "      <td>362</td>\n",
              "      <td>367</td>\n",
              "      <td>361</td>\n",
              "      <td>364</td>\n",
              "      <td>32</td>\n",
              "    </tr>\n",
              "    <tr>\n",
              "      <th rowspan=\"3\" valign=\"top\">Supermercado</th>\n",
              "      <th>count</th>\n",
              "      <td>50</td>\n",
              "      <td>50</td>\n",
              "      <td>50</td>\n",
              "      <td>50</td>\n",
              "      <td>50</td>\n",
              "      <td>50</td>\n",
              "      <td>50</td>\n",
              "      <td>50</td>\n",
              "      <td>50</td>\n",
              "    </tr>\n",
              "    <tr>\n",
              "      <th>size</th>\n",
              "      <td>50</td>\n",
              "      <td>50</td>\n",
              "      <td>50</td>\n",
              "      <td>50</td>\n",
              "      <td>50</td>\n",
              "      <td>50</td>\n",
              "      <td>50</td>\n",
              "      <td>50</td>\n",
              "      <td>50</td>\n",
              "    </tr>\n",
              "    <tr>\n",
              "      <th>nunique</th>\n",
              "      <td>50</td>\n",
              "      <td>4</td>\n",
              "      <td>50</td>\n",
              "      <td>50</td>\n",
              "      <td>50</td>\n",
              "      <td>50</td>\n",
              "      <td>50</td>\n",
              "      <td>49</td>\n",
              "      <td>48</td>\n",
              "    </tr>\n",
              "  </tbody>\n",
              "</table>\n",
              "</div>"
            ],
            "text/plain": [
              "                        Id_de_tienda  Estado  ...  Vtas_ Junio  id_empleado\n",
              "Tipo_de_tienda                                ...                          \n",
              "Abarrotes      count            2250    2250  ...         2250         2250\n",
              "               size             2250    2250  ...         2250         2250\n",
              "               nunique          2250       3  ...          738           15\n",
              "Minisuper      count             400     400  ...          400          400\n",
              "               size              400     400  ...          400          400\n",
              "               nunique           400       4  ...          364           32\n",
              "Supermercado   count              50      50  ...           50           50\n",
              "               size               50      50  ...           50           50\n",
              "               nunique            50       4  ...           49           48\n",
              "\n",
              "[9 rows x 9 columns]"
            ]
          },
          "metadata": {
            "tags": []
          },
          "execution_count": 13
        }
      ]
    },
    {
      "cell_type": "code",
      "metadata": {
        "id": "dOBi9m9iLyPk",
        "colab_type": "code",
        "colab": {
          "base_uri": "https://localhost:8080/",
          "height": 230
        },
        "outputId": "b99b242d-afce-4183-d4c9-ce618a429129"
      },
      "source": [
        "df.id_empleado.value_counts()"
      ],
      "execution_count": 16,
      "outputs": [
        {
          "output_type": "execute_result",
          "data": {
            "text/plain": [
              "3      177\n",
              "8      168\n",
              "6      165\n",
              "9      162\n",
              "15     161\n",
              "      ... \n",
              "111      1\n",
              "113      1\n",
              "135      1\n",
              "149      1\n",
              "500      1\n",
              "Name: id_empleado, Length: 95, dtype: int64"
            ]
          },
          "metadata": {
            "tags": []
          },
          "execution_count": 16
        }
      ]
    },
    {
      "cell_type": "code",
      "metadata": {
        "id": "yUbXvuqRMLtL",
        "colab_type": "code",
        "colab": {
          "base_uri": "https://localhost:8080/",
          "height": 197
        },
        "outputId": "8b9ed313-f8f3-430d-c487-00165bc18db3"
      },
      "source": [
        "df_sample = df.sample(frac=0.05, random_state=1)\n",
        "df_sample.head()"
      ],
      "execution_count": 25,
      "outputs": [
        {
          "output_type": "execute_result",
          "data": {
            "text/html": [
              "<div>\n",
              "<style scoped>\n",
              "    .dataframe tbody tr th:only-of-type {\n",
              "        vertical-align: middle;\n",
              "    }\n",
              "\n",
              "    .dataframe tbody tr th {\n",
              "        vertical-align: top;\n",
              "    }\n",
              "\n",
              "    .dataframe thead th {\n",
              "        text-align: right;\n",
              "    }\n",
              "</style>\n",
              "<table border=\"1\" class=\"dataframe\">\n",
              "  <thead>\n",
              "    <tr style=\"text-align: right;\">\n",
              "      <th></th>\n",
              "      <th>Id_de_Tienda</th>\n",
              "      <th>Tipo_de_tienda</th>\n",
              "      <th>Estado</th>\n",
              "      <th>Vtas_Enero</th>\n",
              "      <th>Vtas_Febrero</th>\n",
              "      <th>Vtas_Marzo</th>\n",
              "      <th>Vtas_Abril</th>\n",
              "      <th>Vtas_Mayo</th>\n",
              "      <th>Vtas_Junio</th>\n",
              "      <th>empleados</th>\n",
              "    </tr>\n",
              "  </thead>\n",
              "  <tbody>\n",
              "    <tr>\n",
              "      <th>1577</th>\n",
              "      <td>31578</td>\n",
              "      <td>Abarrotes</td>\n",
              "      <td>Mï¼¹ico</td>\n",
              "      <td>2.75</td>\n",
              "      <td>2.73</td>\n",
              "      <td>2.72</td>\n",
              "      <td>2.72</td>\n",
              "      <td>2.72</td>\n",
              "      <td>2.74</td>\n",
              "      <td>12</td>\n",
              "    </tr>\n",
              "    <tr>\n",
              "      <th>1783</th>\n",
              "      <td>31784</td>\n",
              "      <td>Abarrotes</td>\n",
              "      <td>Mï¼¹ico</td>\n",
              "      <td>4.48</td>\n",
              "      <td>4.45</td>\n",
              "      <td>4.47</td>\n",
              "      <td>4.47</td>\n",
              "      <td>4.46</td>\n",
              "      <td>4.45</td>\n",
              "      <td>4</td>\n",
              "    </tr>\n",
              "    <tr>\n",
              "      <th>429</th>\n",
              "      <td>30430</td>\n",
              "      <td>Minisuper</td>\n",
              "      <td>Quintana Roo</td>\n",
              "      <td>21.60</td>\n",
              "      <td>19.21</td>\n",
              "      <td>20.49</td>\n",
              "      <td>21.00</td>\n",
              "      <td>20.17</td>\n",
              "      <td>20.69</td>\n",
              "      <td>49</td>\n",
              "    </tr>\n",
              "    <tr>\n",
              "      <th>1201</th>\n",
              "      <td>31202</td>\n",
              "      <td>Abarrotes</td>\n",
              "      <td>Mï¼¹ico</td>\n",
              "      <td>4.67</td>\n",
              "      <td>4.65</td>\n",
              "      <td>4.66</td>\n",
              "      <td>4.66</td>\n",
              "      <td>4.64</td>\n",
              "      <td>4.65</td>\n",
              "      <td>1</td>\n",
              "    </tr>\n",
              "    <tr>\n",
              "      <th>1027</th>\n",
              "      <td>31028</td>\n",
              "      <td>Abarrotes</td>\n",
              "      <td>Mï¼¹ico</td>\n",
              "      <td>4.67</td>\n",
              "      <td>4.65</td>\n",
              "      <td>4.66</td>\n",
              "      <td>4.66</td>\n",
              "      <td>4.64</td>\n",
              "      <td>4.64</td>\n",
              "      <td>1</td>\n",
              "    </tr>\n",
              "  </tbody>\n",
              "</table>\n",
              "</div>"
            ],
            "text/plain": [
              "      Id_de_Tienda Tipo_de_tienda  ... Vtas_Junio  empleados\n",
              "1577         31578      Abarrotes  ...       2.74         12\n",
              "1783         31784      Abarrotes  ...       4.45          4\n",
              "429          30430      Minisuper  ...      20.69         49\n",
              "1201         31202      Abarrotes  ...       4.65          1\n",
              "1027         31028      Abarrotes  ...       4.64          1\n",
              "\n",
              "[5 rows x 10 columns]"
            ]
          },
          "metadata": {
            "tags": []
          },
          "execution_count": 25
        }
      ]
    },
    {
      "cell_type": "code",
      "metadata": {
        "id": "s2ZKjbhDMP7d",
        "colab_type": "code",
        "colab": {
          "base_uri": "https://localhost:8080/",
          "height": 197
        },
        "outputId": "99142a99-83ea-4b6e-8f86-67968e46274d"
      },
      "source": [
        "df_dropped = df.dropna(subset=['Estado'])\n",
        "df_dropped.head()"
      ],
      "execution_count": 26,
      "outputs": [
        {
          "output_type": "execute_result",
          "data": {
            "text/html": [
              "<div>\n",
              "<style scoped>\n",
              "    .dataframe tbody tr th:only-of-type {\n",
              "        vertical-align: middle;\n",
              "    }\n",
              "\n",
              "    .dataframe tbody tr th {\n",
              "        vertical-align: top;\n",
              "    }\n",
              "\n",
              "    .dataframe thead th {\n",
              "        text-align: right;\n",
              "    }\n",
              "</style>\n",
              "<table border=\"1\" class=\"dataframe\">\n",
              "  <thead>\n",
              "    <tr style=\"text-align: right;\">\n",
              "      <th></th>\n",
              "      <th>Id_de_Tienda</th>\n",
              "      <th>Tipo_de_tienda</th>\n",
              "      <th>Estado</th>\n",
              "      <th>Vtas_Enero</th>\n",
              "      <th>Vtas_Febrero</th>\n",
              "      <th>Vtas_Marzo</th>\n",
              "      <th>Vtas_Abril</th>\n",
              "      <th>Vtas_Mayo</th>\n",
              "      <th>Vtas_Junio</th>\n",
              "      <th>empleados</th>\n",
              "    </tr>\n",
              "  </thead>\n",
              "  <tbody>\n",
              "    <tr>\n",
              "      <th>0</th>\n",
              "      <td>30001</td>\n",
              "      <td>Supermercado</td>\n",
              "      <td>Baja California</td>\n",
              "      <td>23.93</td>\n",
              "      <td>20.76</td>\n",
              "      <td>18.41</td>\n",
              "      <td>15.24</td>\n",
              "      <td>18.93</td>\n",
              "      <td>17.93</td>\n",
              "      <td>176</td>\n",
              "    </tr>\n",
              "    <tr>\n",
              "      <th>1</th>\n",
              "      <td>30002</td>\n",
              "      <td>Supermercado</td>\n",
              "      <td>Baja California</td>\n",
              "      <td>47.78</td>\n",
              "      <td>43.83</td>\n",
              "      <td>41.52</td>\n",
              "      <td>40.35</td>\n",
              "      <td>43.84</td>\n",
              "      <td>44.20</td>\n",
              "      <td>275</td>\n",
              "    </tr>\n",
              "    <tr>\n",
              "      <th>2</th>\n",
              "      <td>30003</td>\n",
              "      <td>Supermercado</td>\n",
              "      <td>Baja California</td>\n",
              "      <td>26.38</td>\n",
              "      <td>16.92</td>\n",
              "      <td>21.26</td>\n",
              "      <td>18.52</td>\n",
              "      <td>21.13</td>\n",
              "      <td>19.48</td>\n",
              "      <td>246</td>\n",
              "    </tr>\n",
              "    <tr>\n",
              "      <th>3</th>\n",
              "      <td>30004</td>\n",
              "      <td>Supermercado</td>\n",
              "      <td>Baja California</td>\n",
              "      <td>14.38</td>\n",
              "      <td>5.97</td>\n",
              "      <td>9.65</td>\n",
              "      <td>10.04</td>\n",
              "      <td>5.04</td>\n",
              "      <td>10.14</td>\n",
              "      <td>164</td>\n",
              "    </tr>\n",
              "    <tr>\n",
              "      <th>4</th>\n",
              "      <td>30005</td>\n",
              "      <td>Supermercado</td>\n",
              "      <td>Baja California</td>\n",
              "      <td>49.92</td>\n",
              "      <td>43.95</td>\n",
              "      <td>40.88</td>\n",
              "      <td>40.84</td>\n",
              "      <td>42.91</td>\n",
              "      <td>45.19</td>\n",
              "      <td>130</td>\n",
              "    </tr>\n",
              "  </tbody>\n",
              "</table>\n",
              "</div>"
            ],
            "text/plain": [
              "   Id_de_Tienda Tipo_de_tienda  ... Vtas_Junio  empleados\n",
              "0         30001   Supermercado  ...      17.93        176\n",
              "1         30002   Supermercado  ...      44.20        275\n",
              "2         30003   Supermercado  ...      19.48        246\n",
              "3         30004   Supermercado  ...      10.14        164\n",
              "4         30005   Supermercado  ...      45.19        130\n",
              "\n",
              "[5 rows x 10 columns]"
            ]
          },
          "metadata": {
            "tags": []
          },
          "execution_count": 26
        }
      ]
    },
    {
      "cell_type": "code",
      "metadata": {
        "id": "vXmnw7_5McTh",
        "colab_type": "code",
        "colab": {
          "base_uri": "https://localhost:8080/",
          "height": 34
        },
        "outputId": "575c5c85-eb22-4849-fa32-2bb91ae7a870"
      },
      "source": [
        "df_dropped.shape"
      ],
      "execution_count": 28,
      "outputs": [
        {
          "output_type": "execute_result",
          "data": {
            "text/plain": [
              "(2700, 10)"
            ]
          },
          "metadata": {
            "tags": []
          },
          "execution_count": 28
        }
      ]
    },
    {
      "cell_type": "code",
      "metadata": {
        "id": "jmvp4q9lMiHO",
        "colab_type": "code",
        "colab": {
          "base_uri": "https://localhost:8080/",
          "height": 34
        },
        "outputId": "ba26f986-c22c-402d-bd25-acf4b56bba9a"
      },
      "source": [
        "df_copy = df.copy()\n",
        "df_copy.head()\n",
        "df_copy.shape"
      ],
      "execution_count": 29,
      "outputs": [
        {
          "output_type": "execute_result",
          "data": {
            "text/plain": [
              "(2700, 10)"
            ]
          },
          "metadata": {
            "tags": []
          },
          "execution_count": 29
        }
      ]
    },
    {
      "cell_type": "code",
      "metadata": {
        "id": "XjWqqo6rMlD9",
        "colab_type": "code",
        "colab": {
          "base_uri": "https://localhost:8080/",
          "height": 34
        },
        "outputId": "9281a772-4301-49ed-f556-c4ae14397c23"
      },
      "source": [
        "df_dropped['Vtas_Mayo'].dtype"
      ],
      "execution_count": 31,
      "outputs": [
        {
          "output_type": "execute_result",
          "data": {
            "text/plain": [
              "dtype('float64')"
            ]
          },
          "metadata": {
            "tags": []
          },
          "execution_count": 31
        }
      ]
    },
    {
      "cell_type": "code",
      "metadata": {
        "id": "c3X0pqeVPGXQ",
        "colab_type": "code",
        "colab": {}
      },
      "source": [
        "df_copy['Vtas_Mayo'].fillna(value=np.round(df['Vtas_Mayo'].mean(),decimals=0), inplace=True)"
      ],
      "execution_count": 0,
      "outputs": []
    },
    {
      "cell_type": "code",
      "metadata": {
        "id": "wsbIzXmnPbrp",
        "colab_type": "code",
        "colab": {
          "base_uri": "https://localhost:8080/",
          "height": 137
        },
        "outputId": "d04112d1-95ae-433c-a180-816d700eeaa8"
      },
      "source": [
        "df_copy.agg(['count', 'size', 'nunique'])"
      ],
      "execution_count": 57,
      "outputs": [
        {
          "output_type": "execute_result",
          "data": {
            "text/html": [
              "<div>\n",
              "<style scoped>\n",
              "    .dataframe tbody tr th:only-of-type {\n",
              "        vertical-align: middle;\n",
              "    }\n",
              "\n",
              "    .dataframe tbody tr th {\n",
              "        vertical-align: top;\n",
              "    }\n",
              "\n",
              "    .dataframe thead th {\n",
              "        text-align: right;\n",
              "    }\n",
              "</style>\n",
              "<table border=\"1\" class=\"dataframe\">\n",
              "  <thead>\n",
              "    <tr style=\"text-align: right;\">\n",
              "      <th></th>\n",
              "      <th>Id_de_Tienda</th>\n",
              "      <th>Tipo_de_tienda</th>\n",
              "      <th>Estado</th>\n",
              "      <th>Vtas_Enero</th>\n",
              "      <th>Vtas_Febrero</th>\n",
              "      <th>Vtas_Marzo</th>\n",
              "      <th>Vtas_Abril</th>\n",
              "      <th>Vtas_Mayo</th>\n",
              "      <th>Vtas_Junio</th>\n",
              "      <th>empleados</th>\n",
              "    </tr>\n",
              "  </thead>\n",
              "  <tbody>\n",
              "    <tr>\n",
              "      <th>count</th>\n",
              "      <td>2700</td>\n",
              "      <td>2700</td>\n",
              "      <td>2700</td>\n",
              "      <td>2700</td>\n",
              "      <td>2700</td>\n",
              "      <td>2700</td>\n",
              "      <td>2700</td>\n",
              "      <td>2700</td>\n",
              "      <td>2700</td>\n",
              "      <td>8</td>\n",
              "    </tr>\n",
              "    <tr>\n",
              "      <th>size</th>\n",
              "      <td>2700</td>\n",
              "      <td>2700</td>\n",
              "      <td>2700</td>\n",
              "      <td>2700</td>\n",
              "      <td>2700</td>\n",
              "      <td>2700</td>\n",
              "      <td>2700</td>\n",
              "      <td>2700</td>\n",
              "      <td>2700</td>\n",
              "      <td>2700</td>\n",
              "    </tr>\n",
              "    <tr>\n",
              "      <th>nunique</th>\n",
              "      <td>2700</td>\n",
              "      <td>3</td>\n",
              "      <td>4</td>\n",
              "      <td>1143</td>\n",
              "      <td>1106</td>\n",
              "      <td>1106</td>\n",
              "      <td>1121</td>\n",
              "      <td>1123</td>\n",
              "      <td>1112</td>\n",
              "      <td>7</td>\n",
              "    </tr>\n",
              "  </tbody>\n",
              "</table>\n",
              "</div>"
            ],
            "text/plain": [
              "         Id_de_Tienda  Tipo_de_tienda  Estado  ...  Vtas_Mayo  Vtas_Junio  empleados\n",
              "count            2700            2700    2700  ...       2700        2700          8\n",
              "size             2700            2700    2700  ...       2700        2700       2700\n",
              "nunique          2700               3       4  ...       1123        1112          7\n",
              "\n",
              "[3 rows x 10 columns]"
            ]
          },
          "metadata": {
            "tags": []
          },
          "execution_count": 57
        }
      ]
    },
    {
      "cell_type": "code",
      "metadata": {
        "id": "9r5LhL9oPhdz",
        "colab_type": "code",
        "colab": {
          "base_uri": "https://localhost:8080/",
          "height": 34
        },
        "outputId": "ea7de8a3-2aff-469b-85ec-ffd765b298b3"
      },
      "source": [
        "list(df['Tipo_de_tienda'].unique())"
      ],
      "execution_count": 38,
      "outputs": [
        {
          "output_type": "execute_result",
          "data": {
            "text/plain": [
              "['Supermercado', 'Minisuper', 'Abarrotes']"
            ]
          },
          "metadata": {
            "tags": []
          },
          "execution_count": 38
        }
      ]
    },
    {
      "cell_type": "code",
      "metadata": {
        "id": "67ZE765LPsJ8",
        "colab_type": "code",
        "colab": {}
      },
      "source": [
        "list(df['empleados'].unique())"
      ],
      "execution_count": 0,
      "outputs": []
    },
    {
      "cell_type": "code",
      "metadata": {
        "id": "wUa3_49zPzL0",
        "colab_type": "code",
        "colab": {
          "base_uri": "https://localhost:8080/",
          "height": 34
        },
        "outputId": "43296edd-74fb-4837-ddfb-498336240e74"
      },
      "source": [
        "keys = list(df['empleados'].unique())\n",
        "vals = range(1,8)\n",
        "act = dict(zip(keys, vals))\n",
        "act"
      ],
      "execution_count": 40,
      "outputs": [
        {
          "output_type": "execute_result",
          "data": {
            "text/plain": [
              "{130: 5, 158: 6, 164: 4, 176: 1, 239: 7, 246: 3, 275: 2}"
            ]
          },
          "metadata": {
            "tags": []
          },
          "execution_count": 40
        }
      ]
    },
    {
      "cell_type": "code",
      "metadata": {
        "id": "M-efPDRGPbnO",
        "colab_type": "code",
        "colab": {
          "base_uri": "https://localhost:8080/",
          "height": 197
        },
        "outputId": "61760cfc-fc8a-443e-bb04-de845e0f39be"
      },
      "source": [
        "df_copy['empleados'] = df['empleados'].map(act)\n",
        "df_copy.head()"
      ],
      "execution_count": 41,
      "outputs": [
        {
          "output_type": "execute_result",
          "data": {
            "text/html": [
              "<div>\n",
              "<style scoped>\n",
              "    .dataframe tbody tr th:only-of-type {\n",
              "        vertical-align: middle;\n",
              "    }\n",
              "\n",
              "    .dataframe tbody tr th {\n",
              "        vertical-align: top;\n",
              "    }\n",
              "\n",
              "    .dataframe thead th {\n",
              "        text-align: right;\n",
              "    }\n",
              "</style>\n",
              "<table border=\"1\" class=\"dataframe\">\n",
              "  <thead>\n",
              "    <tr style=\"text-align: right;\">\n",
              "      <th></th>\n",
              "      <th>Id_de_Tienda</th>\n",
              "      <th>Tipo_de_tienda</th>\n",
              "      <th>Estado</th>\n",
              "      <th>Vtas_Enero</th>\n",
              "      <th>Vtas_Febrero</th>\n",
              "      <th>Vtas_Marzo</th>\n",
              "      <th>Vtas_Abril</th>\n",
              "      <th>Vtas_Mayo</th>\n",
              "      <th>Vtas_Junio</th>\n",
              "      <th>empleados</th>\n",
              "    </tr>\n",
              "  </thead>\n",
              "  <tbody>\n",
              "    <tr>\n",
              "      <th>0</th>\n",
              "      <td>30001</td>\n",
              "      <td>Supermercado</td>\n",
              "      <td>Baja California</td>\n",
              "      <td>23.93</td>\n",
              "      <td>20.76</td>\n",
              "      <td>18.41</td>\n",
              "      <td>15.24</td>\n",
              "      <td>18.93</td>\n",
              "      <td>17.93</td>\n",
              "      <td>1.0</td>\n",
              "    </tr>\n",
              "    <tr>\n",
              "      <th>1</th>\n",
              "      <td>30002</td>\n",
              "      <td>Supermercado</td>\n",
              "      <td>Baja California</td>\n",
              "      <td>47.78</td>\n",
              "      <td>43.83</td>\n",
              "      <td>41.52</td>\n",
              "      <td>40.35</td>\n",
              "      <td>43.84</td>\n",
              "      <td>44.20</td>\n",
              "      <td>2.0</td>\n",
              "    </tr>\n",
              "    <tr>\n",
              "      <th>2</th>\n",
              "      <td>30003</td>\n",
              "      <td>Supermercado</td>\n",
              "      <td>Baja California</td>\n",
              "      <td>26.38</td>\n",
              "      <td>16.92</td>\n",
              "      <td>21.26</td>\n",
              "      <td>18.52</td>\n",
              "      <td>21.13</td>\n",
              "      <td>19.48</td>\n",
              "      <td>3.0</td>\n",
              "    </tr>\n",
              "    <tr>\n",
              "      <th>3</th>\n",
              "      <td>30004</td>\n",
              "      <td>Supermercado</td>\n",
              "      <td>Baja California</td>\n",
              "      <td>14.38</td>\n",
              "      <td>5.97</td>\n",
              "      <td>9.65</td>\n",
              "      <td>10.04</td>\n",
              "      <td>5.04</td>\n",
              "      <td>10.14</td>\n",
              "      <td>4.0</td>\n",
              "    </tr>\n",
              "    <tr>\n",
              "      <th>4</th>\n",
              "      <td>30005</td>\n",
              "      <td>Supermercado</td>\n",
              "      <td>Baja California</td>\n",
              "      <td>49.92</td>\n",
              "      <td>43.95</td>\n",
              "      <td>40.88</td>\n",
              "      <td>40.84</td>\n",
              "      <td>42.91</td>\n",
              "      <td>45.19</td>\n",
              "      <td>5.0</td>\n",
              "    </tr>\n",
              "  </tbody>\n",
              "</table>\n",
              "</div>"
            ],
            "text/plain": [
              "   Id_de_Tienda Tipo_de_tienda  ... Vtas_Junio  empleados\n",
              "0         30001   Supermercado  ...      17.93        1.0\n",
              "1         30002   Supermercado  ...      44.20        2.0\n",
              "2         30003   Supermercado  ...      19.48        3.0\n",
              "3         30004   Supermercado  ...      10.14        4.0\n",
              "4         30005   Supermercado  ...      45.19        5.0\n",
              "\n",
              "[5 rows x 10 columns]"
            ]
          },
          "metadata": {
            "tags": []
          },
          "execution_count": 41
        }
      ]
    },
    {
      "cell_type": "code",
      "metadata": {
        "id": "YqvHyDPWQOfx",
        "colab_type": "code",
        "colab": {
          "base_uri": "https://localhost:8080/",
          "height": 34
        },
        "outputId": "642fde41-29b7-479b-ce1f-7f2f5090f572"
      },
      "source": [
        "list(df_copy['Estado'].unique())"
      ],
      "execution_count": 42,
      "outputs": [
        {
          "output_type": "execute_result",
          "data": {
            "text/plain": [
              "['Baja California', 'Mï¼¹ico', 'Edo. De Mï¼¹ico', 'Quintana Roo']"
            ]
          },
          "metadata": {
            "tags": []
          },
          "execution_count": 42
        }
      ]
    },
    {
      "cell_type": "code",
      "metadata": {
        "id": "CB-SiFdyQaSD",
        "colab_type": "code",
        "colab": {
          "base_uri": "https://localhost:8080/",
          "height": 34
        },
        "outputId": "a56984df-87d8-46cd-8a77-a5d9f3a38801"
      },
      "source": [
        "df_copy['Vtas_Abril'].mean()"
      ],
      "execution_count": 43,
      "outputs": [
        {
          "output_type": "execute_result",
          "data": {
            "text/plain": [
              "92.80465555555554"
            ]
          },
          "metadata": {
            "tags": []
          },
          "execution_count": 43
        }
      ]
    },
    {
      "cell_type": "code",
      "metadata": {
        "id": "atsYBlSyQgWA",
        "colab_type": "code",
        "colab": {
          "base_uri": "https://localhost:8080/",
          "height": 70
        },
        "outputId": "6ad764ec-5585-4b7e-fdb0-9cbc859aa31c"
      },
      "source": [
        "df_copy['Estado'][df_copy['empleados'] ==4]"
      ],
      "execution_count": 49,
      "outputs": [
        {
          "output_type": "execute_result",
          "data": {
            "text/plain": [
              "3    Baja California\n",
              "6    Baja California\n",
              "Name: Estado, dtype: object"
            ]
          },
          "metadata": {
            "tags": []
          },
          "execution_count": 49
        }
      ]
    },
    {
      "cell_type": "code",
      "metadata": {
        "id": "8RSqaSCOQn1R",
        "colab_type": "code",
        "colab": {
          "base_uri": "https://localhost:8080/",
          "height": 34
        },
        "outputId": "b967de8f-0ab7-4e56-90b2-16369ebd5948"
      },
      "source": [
        "df_copy['Vtas_Enero'][df_copy['empleados'] == 4].mean()"
      ],
      "execution_count": 53,
      "outputs": [
        {
          "output_type": "execute_result",
          "data": {
            "text/plain": [
              "17.22"
            ]
          },
          "metadata": {
            "tags": []
          },
          "execution_count": 53
        }
      ]
    },
    {
      "cell_type": "code",
      "metadata": {
        "id": "0Mbf6LnqQ-2w",
        "colab_type": "code",
        "colab": {
          "base_uri": "https://localhost:8080/",
          "height": 287
        },
        "outputId": "c6f2d859-7b38-41a4-bab5-58af2a15ed3d"
      },
      "source": [
        "df_copy.groupby([\"Estado\", \"Tipo_de_tienda\", \"empleados\"]).count()"
      ],
      "execution_count": 58,
      "outputs": [
        {
          "output_type": "execute_result",
          "data": {
            "text/html": [
              "<div>\n",
              "<style scoped>\n",
              "    .dataframe tbody tr th:only-of-type {\n",
              "        vertical-align: middle;\n",
              "    }\n",
              "\n",
              "    .dataframe tbody tr th {\n",
              "        vertical-align: top;\n",
              "    }\n",
              "\n",
              "    .dataframe thead th {\n",
              "        text-align: right;\n",
              "    }\n",
              "</style>\n",
              "<table border=\"1\" class=\"dataframe\">\n",
              "  <thead>\n",
              "    <tr style=\"text-align: right;\">\n",
              "      <th></th>\n",
              "      <th></th>\n",
              "      <th></th>\n",
              "      <th>Id_de_Tienda</th>\n",
              "      <th>Vtas_Enero</th>\n",
              "      <th>Vtas_Febrero</th>\n",
              "      <th>Vtas_Marzo</th>\n",
              "      <th>Vtas_Abril</th>\n",
              "      <th>Vtas_Mayo</th>\n",
              "      <th>Vtas_Junio</th>\n",
              "    </tr>\n",
              "    <tr>\n",
              "      <th>Estado</th>\n",
              "      <th>Tipo_de_tienda</th>\n",
              "      <th>empleados</th>\n",
              "      <th></th>\n",
              "      <th></th>\n",
              "      <th></th>\n",
              "      <th></th>\n",
              "      <th></th>\n",
              "      <th></th>\n",
              "      <th></th>\n",
              "    </tr>\n",
              "  </thead>\n",
              "  <tbody>\n",
              "    <tr>\n",
              "      <th rowspan=\"7\" valign=\"top\">Baja California</th>\n",
              "      <th rowspan=\"7\" valign=\"top\">Supermercado</th>\n",
              "      <th>1.0</th>\n",
              "      <td>30001</td>\n",
              "      <td>23.93</td>\n",
              "      <td>20.76</td>\n",
              "      <td>18.41</td>\n",
              "      <td>15.24</td>\n",
              "      <td>18.93</td>\n",
              "      <td>17.93</td>\n",
              "    </tr>\n",
              "    <tr>\n",
              "      <th>2.0</th>\n",
              "      <td>30002</td>\n",
              "      <td>47.78</td>\n",
              "      <td>43.83</td>\n",
              "      <td>41.52</td>\n",
              "      <td>40.35</td>\n",
              "      <td>43.84</td>\n",
              "      <td>44.20</td>\n",
              "    </tr>\n",
              "    <tr>\n",
              "      <th>3.0</th>\n",
              "      <td>30003</td>\n",
              "      <td>26.38</td>\n",
              "      <td>16.92</td>\n",
              "      <td>21.26</td>\n",
              "      <td>18.52</td>\n",
              "      <td>21.13</td>\n",
              "      <td>19.48</td>\n",
              "    </tr>\n",
              "    <tr>\n",
              "      <th>4.0</th>\n",
              "      <td>60011</td>\n",
              "      <td>34.44</td>\n",
              "      <td>21.11</td>\n",
              "      <td>20.14</td>\n",
              "      <td>26.75</td>\n",
              "      <td>15.50</td>\n",
              "      <td>23.67</td>\n",
              "    </tr>\n",
              "    <tr>\n",
              "      <th>5.0</th>\n",
              "      <td>30005</td>\n",
              "      <td>49.92</td>\n",
              "      <td>43.95</td>\n",
              "      <td>40.88</td>\n",
              "      <td>40.84</td>\n",
              "      <td>42.91</td>\n",
              "      <td>45.19</td>\n",
              "    </tr>\n",
              "    <tr>\n",
              "      <th>6.0</th>\n",
              "      <td>30006</td>\n",
              "      <td>10.80</td>\n",
              "      <td>10.75</td>\n",
              "      <td>10.23</td>\n",
              "      <td>7.00</td>\n",
              "      <td>10.42</td>\n",
              "      <td>8.99</td>\n",
              "    </tr>\n",
              "    <tr>\n",
              "      <th>7.0</th>\n",
              "      <td>30008</td>\n",
              "      <td>27.00</td>\n",
              "      <td>23.12</td>\n",
              "      <td>20.23</td>\n",
              "      <td>18.06</td>\n",
              "      <td>23.49</td>\n",
              "      <td>23.15</td>\n",
              "    </tr>\n",
              "  </tbody>\n",
              "</table>\n",
              "</div>"
            ],
            "text/plain": [
              "                                          Id_de_Tienda  ...  Vtas_Junio\n",
              "Estado          Tipo_de_tienda empleados                ...            \n",
              "Baja California Supermercado   1.0               30001  ...       17.93\n",
              "                               2.0               30002  ...       44.20\n",
              "                               3.0               30003  ...       19.48\n",
              "                               4.0               60011  ...       23.67\n",
              "                               5.0               30005  ...       45.19\n",
              "                               6.0               30006  ...        8.99\n",
              "                               7.0               30008  ...       23.15\n",
              "\n",
              "[7 rows x 7 columns]"
            ]
          },
          "metadata": {
            "tags": []
          },
          "execution_count": 58
        }
      ]
    },
    {
      "cell_type": "code",
      "metadata": {
        "id": "krD5Zxa5RNnF",
        "colab_type": "code",
        "colab": {
          "base_uri": "https://localhost:8080/",
          "height": 287
        },
        "outputId": "c073b13b-af5d-4190-8fb9-f4e0c7a2b0a9"
      },
      "source": [
        "df_copy.groupby([\"Estado\", \"Tipo_de_tienda\", \"empleados\"])[[\"Estado\", \"Tipo_de_tienda\", \"empleados\"]].count()"
      ],
      "execution_count": 55,
      "outputs": [
        {
          "output_type": "execute_result",
          "data": {
            "text/html": [
              "<div>\n",
              "<style scoped>\n",
              "    .dataframe tbody tr th:only-of-type {\n",
              "        vertical-align: middle;\n",
              "    }\n",
              "\n",
              "    .dataframe tbody tr th {\n",
              "        vertical-align: top;\n",
              "    }\n",
              "\n",
              "    .dataframe thead th {\n",
              "        text-align: right;\n",
              "    }\n",
              "</style>\n",
              "<table border=\"1\" class=\"dataframe\">\n",
              "  <thead>\n",
              "    <tr style=\"text-align: right;\">\n",
              "      <th></th>\n",
              "      <th></th>\n",
              "      <th></th>\n",
              "      <th>Estado</th>\n",
              "      <th>Tipo_de_tienda</th>\n",
              "      <th>empleados</th>\n",
              "    </tr>\n",
              "    <tr>\n",
              "      <th>Estado</th>\n",
              "      <th>Tipo_de_tienda</th>\n",
              "      <th>empleados</th>\n",
              "      <th></th>\n",
              "      <th></th>\n",
              "      <th></th>\n",
              "    </tr>\n",
              "  </thead>\n",
              "  <tbody>\n",
              "    <tr>\n",
              "      <th rowspan=\"7\" valign=\"top\">Baja California</th>\n",
              "      <th rowspan=\"7\" valign=\"top\">Supermercado</th>\n",
              "      <th>1.0</th>\n",
              "      <td>1</td>\n",
              "      <td>1</td>\n",
              "      <td>1</td>\n",
              "    </tr>\n",
              "    <tr>\n",
              "      <th>2.0</th>\n",
              "      <td>1</td>\n",
              "      <td>1</td>\n",
              "      <td>1</td>\n",
              "    </tr>\n",
              "    <tr>\n",
              "      <th>3.0</th>\n",
              "      <td>1</td>\n",
              "      <td>1</td>\n",
              "      <td>1</td>\n",
              "    </tr>\n",
              "    <tr>\n",
              "      <th>4.0</th>\n",
              "      <td>2</td>\n",
              "      <td>2</td>\n",
              "      <td>2</td>\n",
              "    </tr>\n",
              "    <tr>\n",
              "      <th>5.0</th>\n",
              "      <td>1</td>\n",
              "      <td>1</td>\n",
              "      <td>1</td>\n",
              "    </tr>\n",
              "    <tr>\n",
              "      <th>6.0</th>\n",
              "      <td>1</td>\n",
              "      <td>1</td>\n",
              "      <td>1</td>\n",
              "    </tr>\n",
              "    <tr>\n",
              "      <th>7.0</th>\n",
              "      <td>1</td>\n",
              "      <td>1</td>\n",
              "      <td>1</td>\n",
              "    </tr>\n",
              "  </tbody>\n",
              "</table>\n",
              "</div>"
            ],
            "text/plain": [
              "                                          Estado  Tipo_de_tienda  empleados\n",
              "Estado          Tipo_de_tienda empleados                                   \n",
              "Baja California Supermercado   1.0             1               1          1\n",
              "                               2.0             1               1          1\n",
              "                               3.0             1               1          1\n",
              "                               4.0             2               2          2\n",
              "                               5.0             1               1          1\n",
              "                               6.0             1               1          1\n",
              "                               7.0             1               1          1"
            ]
          },
          "metadata": {
            "tags": []
          },
          "execution_count": 55
        }
      ]
    },
    {
      "cell_type": "code",
      "metadata": {
        "id": "A0Zef05HRcES",
        "colab_type": "code",
        "colab": {
          "base_uri": "https://localhost:8080/",
          "height": 265
        },
        "outputId": "d2279765-8ef2-48ba-ace7-dab4900e7022"
      },
      "source": [
        "%matplotlib inline\n",
        "import matplotlib.pyplot as plt\n",
        "plt.style.use('seaborn-white')\n",
        "\n",
        "ax1 = plt.axes()  # standard axes\n",
        "ax2 = plt.axes([0.65, 0.65, 0.2, 0.2])"
      ],
      "execution_count": 59,
      "outputs": [
        {
          "output_type": "display_data",
          "data": {
            "image/png": "[encoded data removed]",
            "text/plain": [
              "<Figure size 432x288 with 2 Axes>"
            ]
          },
          "metadata": {
            "tags": []
          }
        }
      ]
    },
    {
      "cell_type": "code",
      "metadata": {
        "id": "E5LtQpVGSCNw",
        "colab_type": "code",
        "colab": {
          "base_uri": "https://localhost:8080/",
          "height": 292
        },
        "outputId": "c5a1eb11-94c9-429a-b4da-06e281ef6e12"
      },
      "source": [
        "fig = plt.figure()\n",
        "ax1 = fig.add_axes([0.1, 0.5, 0.8, 0.4],\n",
        "                   xticklabels=[], ylim=(-1.2, 1.2))\n",
        "ax2 = fig.add_axes([0.1, 0.1, 0.8, 0.4],\n",
        "                   ylim=(-1.2, 1.2))\n",
        "\n",
        "x = np.linspace(0, 10)\n",
        "ax1.plot(np.sin(x))\n",
        "ax2.plot(np.cos(x))"
      ],
      "execution_count": 60,
      "outputs": [
        {
          "output_type": "execute_result",
          "data": {
            "text/plain": [
              "[<matplotlib.lines.Line2D at 0x7f9cdccba470>]"
            ]
          },
          "metadata": {
            "tags": []
          },
          "execution_count": 60
        },
        {
          "output_type": "display_data",
          "data": {
            "image/png": "[encoded data removed]",
            "text/plain": [
              "<Figure size 432x288 with 2 Axes>"
            ]
          },
          "metadata": {
            "tags": []
          }
        }
      ]
    },
    {
      "cell_type": "code",
      "metadata": {
        "id": "lh2EUe9XSLxk",
        "colab_type": "code",
        "colab": {
          "base_uri": "https://localhost:8080/",
          "height": 293
        },
        "outputId": "29011259-9d64-4d8d-8edc-c42300c45a19"
      },
      "source": [
        "df_sample['Vtas_Febrero'] = df_sample['Vtas_Febrero'].astype('int64')\n",
        "\n",
        "df_sample.plot(kind='scatter',x='empleados',\ty='Vtas_Febrero')"
      ],
      "execution_count": 66,
      "outputs": [
        {
          "output_type": "execute_result",
          "data": {
            "text/plain": [
              "<matplotlib.axes._subplots.AxesSubplot at 0x7f9cda2c0eb8>"
            ]
          },
          "metadata": {
            "tags": []
          },
          "execution_count": 66
        },
        {
          "output_type": "display_data",
          "data": {
            "image/png": "[encoded data removed]",
            "text/plain": [
              "<Figure size 432x288 with 1 Axes>"
            ]
          },
          "metadata": {
            "tags": []
          }
        }
      ]
    },
    {
      "cell_type": "code",
      "metadata": {
        "id": "JbD_uEjjS3Fc",
        "colab_type": "code",
        "colab": {
          "base_uri": "https://localhost:8080/",
          "height": 308
        },
        "outputId": "c939097c-a0bc-432d-c069-776b9309901c"
      },
      "source": [
        "df_sample['Vtas_Febrero'] = df_sample['Vtas_Febrero'].astype('int64')\n",
        "plt.hist(df_sample['Vtas_Febrero'])\n",
        "plt.xlabel('Vtas_Febrero')\n",
        "plt.ylabel('Frequency')\n",
        "plt.title('Frequency of Vtas_Febrero')"
      ],
      "execution_count": 65,
      "outputs": [
        {
          "output_type": "execute_result",
          "data": {
            "text/plain": [
              "Text(0.5, 1.0, 'Frequency of Vtas_Febrero')"
            ]
          },
          "metadata": {
            "tags": []
          },
          "execution_count": 65
        },
        {
          "output_type": "display_data",
          "data": {
            "image/png": "[encoded data removed]",
            "text/plain": [
              "<Figure size 432x288 with 1 Axes>"
            ]
          },
          "metadata": {
            "tags": []
          }
        }
      ]
    },
    {
      "cell_type": "code",
      "metadata": {
        "id": "XmSW0w9sS30O",
        "colab_type": "code",
        "colab": {
          "base_uri": "https://localhost:8080/",
          "height": 294
        },
        "outputId": "42fb9c62-a7ed-4406-c25c-8116fb02a5df"
      },
      "source": [
        "plt.boxplot(df_sample['empleados'], showmeans=True, meanline=True)\n",
        "plt.ylabel('empleados count')\n",
        "plt.title('Box Plot of empleados count')"
      ],
      "execution_count": 71,
      "outputs": [
        {
          "output_type": "execute_result",
          "data": {
            "text/plain": [
              "Text(0.5, 1.0, 'Box Plot of empleados count')"
            ]
          },
          "metadata": {
            "tags": []
          },
          "execution_count": 71
        },
        {
          "output_type": "display_data",
          "data": {
            "image/png": "[encoded data removed]",
            "text/plain": [
              "<Figure size 432x288 with 1 Axes>"
            ]
          },
          "metadata": {
            "tags": []
          }
        }
      ]
    }
  ]
}