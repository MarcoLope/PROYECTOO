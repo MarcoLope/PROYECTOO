{
  "nbformat": 4,
  "nbformat_minor": 0,
  "metadata": {
    "colab": {
      "name": "Untitled",
      "provenance": [],
      "collapsed_sections": [],
      "authorship_tag": "ABX9TyNMJqEcH455Igf8qElxfypq",
      "include_colab_link": true
    },
    "kernelspec": {
      "name": "python3",
      "display_name": "Python 3"
    }
  },
  "cells": [
    {
      "cell_type": "markdown",
      "metadata": {
        "id": "view-in-github",
        "colab_type": "text"
      },
      "source": [
        "<a href=\"https://colab.research.google.com/github/MarcoLope/PROYECTOO/blob/master/Untitled.ipynb\" target=\"_parent\"><img src=\"https://colab.research.google.com/assets/colab-badge.svg\" alt=\"Open In Colab\"/></a>"
      ]
    },
    {
      "cell_type": "code",
      "metadata": {
        "id": "gv03Tsr-Qrs4",
        "colab_type": "code",
        "colab": {}
      },
      "source": [
        "import pandas as pd\n",
        "import numpy as np\n",
        "import missingno as msno\n",
        "%matplotlib inline"
      ],
      "execution_count": 0,
      "outputs": []
    },
    {
      "cell_type": "code",
      "metadata": {
        "id": "qy6oe0QKQ_8z",
        "colab_type": "code",
        "colab": {}
      },
      "source": [
        "path = '/content/gestion-de-enero-junio-2019.csv'\n",
        "df = pd.read_csv(path, encoding='latin', error_bad_lines=False)\n",
        "df.head()"
      ],
      "execution_count": 0,
      "outputs": []
    },
    {
      "cell_type": "code",
      "metadata": {
        "id": "Fhg7AOyilQSi",
        "colab_type": "code",
        "colab": {}
      },
      "source": [
        "df.loc[20:25]"
      ],
      "execution_count": 0,
      "outputs": []
    },
    {
      "cell_type": "code",
      "metadata": {
        "id": "l9AN_3j5_Qyx",
        "colab_type": "code",
        "outputId": "cfec8f67-9948-4dbd-8fcf-c9ce38e1e878",
        "colab": {
          "base_uri": "https://localhost:8080/",
          "height": 231
        }
      },
      "source": [
        "df.drop([3,15,19], axis=0).head()"
      ],
      "execution_count": 0,
      "outputs": [
        {
          "output_type": "execute_result",
          "data": {
            "text/html": [
              "<div>\n",
              "<style scoped>\n",
              "    .dataframe tbody tr th:only-of-type {\n",
              "        vertical-align: middle;\n",
              "    }\n",
              "\n",
              "    .dataframe tbody tr th {\n",
              "        vertical-align: top;\n",
              "    }\n",
              "\n",
              "    .dataframe thead th {\n",
              "        text-align: right;\n",
              "    }\n",
              "</style>\n",
              "<table border=\"1\" class=\"dataframe\">\n",
              "  <thead>\n",
              "    <tr style=\"text-align: right;\">\n",
              "      <th></th>\n",
              "      <th>No.</th>\n",
              "      <th>FecNac</th>\n",
              "      <th>Sexo</th>\n",
              "      <th>EstadoCivil</th>\n",
              "      <th>ClaveMunicipio</th>\n",
              "      <th>Municipio</th>\n",
              "      <th>ClaveLocalidad</th>\n",
              "      <th>Localidad</th>\n",
              "      <th>TipoApoyo</th>\n",
              "    </tr>\n",
              "  </thead>\n",
              "  <tbody>\n",
              "    <tr>\n",
              "      <th>0</th>\n",
              "      <td>1</td>\n",
              "      <td>28/03/1962</td>\n",
              "      <td>Mujer</td>\n",
              "      <td>Soltero(a)</td>\n",
              "      <td>28</td>\n",
              "      <td>SAN LUIS POTOSI</td>\n",
              "      <td>1</td>\n",
              "      <td>San Luis PotosÃ­</td>\n",
              "      <td>HEMODIALISIS</td>\n",
              "    </tr>\n",
              "    <tr>\n",
              "      <th>1</th>\n",
              "      <td>2</td>\n",
              "      <td>27/05/1955</td>\n",
              "      <td>Mujer</td>\n",
              "      <td>Viudo(a)</td>\n",
              "      <td>28</td>\n",
              "      <td>SAN LUIS POTOSI</td>\n",
              "      <td>619</td>\n",
              "      <td>Tierra Blanca</td>\n",
              "      <td>HEMODIALISIS</td>\n",
              "    </tr>\n",
              "    <tr>\n",
              "      <th>2</th>\n",
              "      <td>3</td>\n",
              "      <td>14/07/1941</td>\n",
              "      <td>Mujer</td>\n",
              "      <td>Soltero(a)</td>\n",
              "      <td>35</td>\n",
              "      <td>SOLEDAD DE GRACIANO SANCHEZ</td>\n",
              "      <td>1</td>\n",
              "      <td>Soledad de Graciano SÃ¡nchez</td>\n",
              "      <td>HEMODIALISIS</td>\n",
              "    </tr>\n",
              "    <tr>\n",
              "      <th>4</th>\n",
              "      <td>5</td>\n",
              "      <td>28/10/1997</td>\n",
              "      <td>Mujer</td>\n",
              "      <td>Soltero(a)</td>\n",
              "      <td>28</td>\n",
              "      <td>SAN LUIS POTOSI</td>\n",
              "      <td>1</td>\n",
              "      <td>San Luis PotosÃ­</td>\n",
              "      <td>ESTUDIOS</td>\n",
              "    </tr>\n",
              "    <tr>\n",
              "      <th>5</th>\n",
              "      <td>6</td>\n",
              "      <td>21/04/1981</td>\n",
              "      <td>Mujer</td>\n",
              "      <td>Casado(a)</td>\n",
              "      <td>28</td>\n",
              "      <td>SAN LUIS POTOSI</td>\n",
              "      <td>1</td>\n",
              "      <td>San Luis PotosÃ­</td>\n",
              "      <td>MEDICAMENTO NEUROLOGICO</td>\n",
              "    </tr>\n",
              "  </tbody>\n",
              "</table>\n",
              "</div>"
            ],
            "text/plain": [
              "   No.      FecNac  ...                     Localidad                TipoApoyo\n",
              "0    1  28/03/1962  ...              San Luis PotosÃ­             HEMODIALISIS\n",
              "1    2  27/05/1955  ...                 Tierra Blanca             HEMODIALISIS\n",
              "2    3  14/07/1941  ...  Soledad de Graciano SÃ¡nchez             HEMODIALISIS\n",
              "4    5  28/10/1997  ...              San Luis PotosÃ­                 ESTUDIOS\n",
              "5    6  21/04/1981  ...              San Luis PotosÃ­  MEDICAMENTO NEUROLOGICO\n",
              "\n",
              "[5 rows x 9 columns]"
            ]
          },
          "metadata": {
            "tags": []
          },
          "execution_count": 38
        }
      ]
    },
    {
      "cell_type": "code",
      "metadata": {
        "id": "5crC2K7d_Wy-",
        "colab_type": "code",
        "colab": {}
      },
      "source": [
        "df.TipoApoyo.unique()"
      ],
      "execution_count": 0,
      "outputs": []
    },
    {
      "cell_type": "code",
      "metadata": {
        "id": "KWYYH4LT_msL",
        "colab_type": "code",
        "colab": {}
      },
      "source": [
        "df.ClaveMunicipio.value_counts()"
      ],
      "execution_count": 0,
      "outputs": []
    },
    {
      "cell_type": "code",
      "metadata": {
        "id": "zG1s-CcAACT0",
        "colab_type": "code",
        "colab": {}
      },
      "source": [
        "df.agg(['count', 'size', 'nunique'])"
      ],
      "execution_count": 0,
      "outputs": []
    },
    {
      "cell_type": "code",
      "metadata": {
        "id": "eI49piPdAJbw",
        "colab_type": "code",
        "colab": {}
      },
      "source": [
        "df.groupby('Sexo').agg(['count', 'size', 'nunique']).stack()"
      ],
      "execution_count": 0,
      "outputs": []
    },
    {
      "cell_type": "code",
      "metadata": {
        "id": "24b1AjeuAQfk",
        "colab_type": "code",
        "colab": {}
      },
      "source": [
        "df_sample = df.sample(frac=0.05, random_state=1)\n",
        "df_sample.head()"
      ],
      "execution_count": 0,
      "outputs": []
    },
    {
      "cell_type": "code",
      "metadata": {
        "id": "RUUGJBh6AZqB",
        "colab_type": "code",
        "colab": {}
      },
      "source": [
        "df_dropped = df.dropna(subset=['ClaveMunicipio'])\n",
        "df_dropped.head()"
      ],
      "execution_count": 0,
      "outputs": []
    },
    {
      "cell_type": "code",
      "metadata": {
        "id": "Xjq5KnJkAerV",
        "colab_type": "code",
        "colab": {}
      },
      "source": [
        "df_dropped.shape"
      ],
      "execution_count": 0,
      "outputs": []
    },
    {
      "cell_type": "code",
      "metadata": {
        "id": "Wwtxv0lkAigd",
        "colab_type": "code",
        "colab": {}
      },
      "source": [
        "df_copy = df.copy()\n",
        "df_copy.head()\n",
        "df_copy.shape"
      ],
      "execution_count": 0,
      "outputs": []
    },
    {
      "cell_type": "code",
      "metadata": {
        "id": "lOYQsOy3AnTs",
        "colab_type": "code",
        "outputId": "d8ee56fa-131c-4769-fa0b-5214be54371c",
        "colab": {
          "base_uri": "https://localhost:8080/",
          "height": 34
        }
      },
      "source": [
        "df_dropped['ClaveMunicipio'].dtype"
      ],
      "execution_count": 0,
      "outputs": [
        {
          "output_type": "execute_result",
          "data": {
            "text/plain": [
              "dtype('int64')"
            ]
          },
          "metadata": {
            "tags": []
          },
          "execution_count": 53
        }
      ]
    },
    {
      "cell_type": "code",
      "metadata": {
        "id": "iuVtNIEUA_Of",
        "colab_type": "code",
        "colab": {}
      },
      "source": [
        "df_copy['ClaveMunicipio'].fillna(value=np.round(df['ClaveMunicipio'].mean(),decimals=0), inplace=True)"
      ],
      "execution_count": 0,
      "outputs": []
    },
    {
      "cell_type": "code",
      "metadata": {
        "id": "SLxSyjIXBO3D",
        "colab_type": "code",
        "colab": {}
      },
      "source": [
        "list(df['ClaveMunicipio'].unique())"
      ],
      "execution_count": 0,
      "outputs": []
    },
    {
      "cell_type": "code",
      "metadata": {
        "id": "ws1te2bVBktc",
        "colab_type": "code",
        "colab": {}
      },
      "source": [
        "list(df['TipoApoyo'].unique())"
      ],
      "execution_count": 0,
      "outputs": []
    },
    {
      "cell_type": "code",
      "metadata": {
        "id": "cCYDrBPQBqh0",
        "colab_type": "code",
        "colab": {}
      },
      "source": [
        "keys = list(df['TipoApoyo'].unique())\n",
        "vals = range(1,8)\n",
        "act = dict(zip(keys, vals))\n",
        "act"
      ],
      "execution_count": 0,
      "outputs": []
    },
    {
      "cell_type": "code",
      "metadata": {
        "id": "KzbAKaCUCJut",
        "colab_type": "code",
        "colab": {}
      },
      "source": [
        "df_copy['TipoApoyo'] = df['TipoApoyo'].map(act)\n",
        "df_copy.head()"
      ],
      "execution_count": 0,
      "outputs": []
    },
    {
      "cell_type": "code",
      "metadata": {
        "id": "V2Gc1njLCQRF",
        "colab_type": "code",
        "colab": {}
      },
      "source": [
        "list(df_copy['ClaveMunicipio'].unique())"
      ],
      "execution_count": 0,
      "outputs": []
    },
    {
      "cell_type": "code",
      "metadata": {
        "id": "gOrNo_yqCbpq",
        "colab_type": "code",
        "colab": {}
      },
      "source": [
        "df_copy['ClaveMunicipio'].mean()"
      ],
      "execution_count": 0,
      "outputs": []
    },
    {
      "cell_type": "code",
      "metadata": {
        "id": "uFGLVpjqChmb",
        "colab_type": "code",
        "colab": {}
      },
      "source": [
        "df_copy['ClaveMunicipio'][df_copy['ClaveMunicipio'] == 16]"
      ],
      "execution_count": 0,
      "outputs": []
    },
    {
      "cell_type": "code",
      "metadata": {
        "id": "G0sAfR7qCrZd",
        "colab_type": "code",
        "colab": {}
      },
      "source": [
        "df_copy['TipoApoyo'][df_copy['ClaveMunicipio'] == 6].mean()"
      ],
      "execution_count": 0,
      "outputs": []
    },
    {
      "cell_type": "code",
      "metadata": {
        "id": "2lX5j9ZIC3NS",
        "colab_type": "code",
        "colab": {}
      },
      "source": [
        "df_copy.groupby([\"Sexo\", \"EstadoCivil\",\"TipoApoyo\"]).count()"
      ],
      "execution_count": 0,
      "outputs": []
    },
    {
      "cell_type": "code",
      "metadata": {
        "id": "uI-zApL7DNR0",
        "colab_type": "code",
        "colab": {}
      },
      "source": [
        "df_copy.groupby([\"Sexo\", \"EstadoCivil\"])[[\"Sexo\", \"EstadoCivil\"]].count()"
      ],
      "execution_count": 0,
      "outputs": []
    },
    {
      "cell_type": "code",
      "metadata": {
        "id": "IIxpuc-gDZ3Y",
        "colab_type": "code",
        "outputId": "9265b945-ce89-466c-ac52-4a9347f22bdc",
        "colab": {
          "base_uri": "https://localhost:8080/",
          "height": 214
        }
      },
      "source": [
        "df_sample = df.sample(frac=0.05, random_state=1)\n",
        "df_sample.head()"
      ],
      "execution_count": 0,
      "outputs": [
        {
          "output_type": "execute_result",
          "data": {
            "text/html": [
              "<div>\n",
              "<style scoped>\n",
              "    .dataframe tbody tr th:only-of-type {\n",
              "        vertical-align: middle;\n",
              "    }\n",
              "\n",
              "    .dataframe tbody tr th {\n",
              "        vertical-align: top;\n",
              "    }\n",
              "\n",
              "    .dataframe thead th {\n",
              "        text-align: right;\n",
              "    }\n",
              "</style>\n",
              "<table border=\"1\" class=\"dataframe\">\n",
              "  <thead>\n",
              "    <tr style=\"text-align: right;\">\n",
              "      <th></th>\n",
              "      <th>No.</th>\n",
              "      <th>FecNac</th>\n",
              "      <th>Sexo</th>\n",
              "      <th>EstadoCivil</th>\n",
              "      <th>ClaveMunicipio</th>\n",
              "      <th>Municipio</th>\n",
              "      <th>ClaveLocalidad</th>\n",
              "      <th>Localidad</th>\n",
              "      <th>TipoApoyo</th>\n",
              "    </tr>\n",
              "  </thead>\n",
              "  <tbody>\n",
              "    <tr>\n",
              "      <th>779</th>\n",
              "      <td>780</td>\n",
              "      <td>31/08/1980</td>\n",
              "      <td>Mujer</td>\n",
              "      <td>UniÃ³n libre</td>\n",
              "      <td>35</td>\n",
              "      <td>SOLEDAD DE GRACIANO SANCHEZ</td>\n",
              "      <td>1</td>\n",
              "      <td>Soledad de Graciano SÃ¡nchez</td>\n",
              "      <td>ESTUDIOS</td>\n",
              "    </tr>\n",
              "    <tr>\n",
              "      <th>1551</th>\n",
              "      <td>1552</td>\n",
              "      <td>04/12/1989</td>\n",
              "      <td>Mujer</td>\n",
              "      <td>Soltero(a)</td>\n",
              "      <td>28</td>\n",
              "      <td>SAN LUIS POTOSI</td>\n",
              "      <td>1</td>\n",
              "      <td>San Luis PotosÃ­</td>\n",
              "      <td>RESONANCIA</td>\n",
              "    </tr>\n",
              "    <tr>\n",
              "      <th>1820</th>\n",
              "      <td>1821</td>\n",
              "      <td>06/05/1953</td>\n",
              "      <td>Hombre</td>\n",
              "      <td>Viudo(a)</td>\n",
              "      <td>56</td>\n",
              "      <td>VILLA DE ARISTA</td>\n",
              "      <td>2</td>\n",
              "      <td>Villa de Arista</td>\n",
              "      <td>TAC</td>\n",
              "    </tr>\n",
              "    <tr>\n",
              "      <th>108</th>\n",
              "      <td>109</td>\n",
              "      <td>01/09/1988</td>\n",
              "      <td>Mujer</td>\n",
              "      <td>Casado(a)</td>\n",
              "      <td>32</td>\n",
              "      <td>SANTA MARIA DEL RIO</td>\n",
              "      <td>1</td>\n",
              "      <td>Santa MarÃ­a del RÃ­o</td>\n",
              "      <td>HEMODIALISIS</td>\n",
              "    </tr>\n",
              "    <tr>\n",
              "      <th>348</th>\n",
              "      <td>349</td>\n",
              "      <td>30/10/1937</td>\n",
              "      <td>Mujer</td>\n",
              "      <td>Casado(a)</td>\n",
              "      <td>28</td>\n",
              "      <td>SAN LUIS POTOSI</td>\n",
              "      <td>280</td>\n",
              "      <td>San SebastiÃ¡n</td>\n",
              "      <td>MEDICAMENTOS</td>\n",
              "    </tr>\n",
              "  </tbody>\n",
              "</table>\n",
              "</div>"
            ],
            "text/plain": [
              "       No.      FecNac  ...                     Localidad     TipoApoyo\n",
              "779    780  31/08/1980  ...  Soledad de Graciano SÃ¡nchez      ESTUDIOS\n",
              "1551  1552  04/12/1989  ...              San Luis PotosÃ­    RESONANCIA\n",
              "1820  1821  06/05/1953  ...               Villa de Arista           TAC\n",
              "108    109  01/09/1988  ...         Santa MarÃ­a del RÃ­o  HEMODIALISIS\n",
              "348    349  30/10/1937  ...                San SebastiÃ¡n  MEDICAMENTOS\n",
              "\n",
              "[5 rows x 9 columns]"
            ]
          },
          "metadata": {
            "tags": []
          },
          "execution_count": 72
        }
      ]
    },
    {
      "cell_type": "code",
      "metadata": {
        "id": "xbUvL7VjDieu",
        "colab_type": "code",
        "colab": {}
      },
      "source": [
        "df_sample.groupby([\"Sexo\",  \"EstadoCivil\"])[[\"ClaveMunicipio\"]].agg([np.sum, np.mean,\n",
        "                                                              np.count_nonzero])"
      ],
      "execution_count": 0,
      "outputs": []
    },
    {
      "cell_type": "code",
      "metadata": {
        "id": "Z1ZriWDlDyJw",
        "colab_type": "code",
        "colab": {}
      },
      "source": [
        "df_sample.groupby([\"Sexo\", \"EstadoCivil\"]).agg({'ClaveMunicipio':np.mean,'FecNac':np.max})"
      ],
      "execution_count": 0,
      "outputs": []
    },
    {
      "cell_type": "code",
      "metadata": {
        "id": "6URRNuIEE99Z",
        "colab_type": "code",
        "colab": {
          "base_uri": "https://localhost:8080/",
          "height": 514
        },
        "outputId": "570d5196-deed-4acf-bd29-a322807d8623"
      },
      "source": [
        "%matplotlib inline\n",
        "import matplotlib.pyplot as plt\n",
        "plt.style.use('seaborn-white')\n",
        "\n",
        "ax1 = plt.axes()  # standard axes\n",
        "ax2 = plt.axes([0.65, 0.65, 0.2, 0.2])\n",
        "fig = plt.figure()\n",
        "fig.subplots_adjust(hspace=0.4, wspace=0.4)\n",
        "for i in range(1, 7):\n",
        "    ax = fig.add_subplot(2, 3, i)\n",
        "    ax.text(0.5, 0.5, str((2, 3, i)),\n",
        "           fontsize=18, ha='center')\n"
      ],
      "execution_count": 82,
      "outputs": [
        {
          "output_type": "display_data",
          "data": {
            "image/png": "[encoded data removed]",
            "text/plain": [
              "<Figure size 432x288 with 2 Axes>"
            ]
          },
          "metadata": {
            "tags": []
          }
        },
        {
          "output_type": "display_data",
          "data": {
            "image/png": "[encoded data removed]",
            "text/plain": [
              "<Figure size 432x288 with 6 Axes>"
            ]
          },
          "metadata": {
            "tags": []
          }
        }
      ]
    },
    {
      "cell_type": "code",
      "metadata": {
        "id": "_m98gGJIF2RT",
        "colab_type": "code",
        "colab": {
          "base_uri": "https://localhost:8080/",
          "height": 308
        },
        "outputId": "a3d76d20-632f-48be-f45f-f70f161e531e"
      },
      "source": [
        "df_sample['ClaveMunicipio'] = df_sample['ClaveMunicipio'].astype('int64')\n",
        "plt.hist(df_sample['EstadoCivil'])\n",
        "plt.xlabel('EstadoCivil')\n",
        "plt.ylabel('Frequency')\n",
        "plt.title('Frequency of EstadoCivil')"
      ],
      "execution_count": 84,
      "outputs": [
        {
          "output_type": "execute_result",
          "data": {
            "text/plain": [
              "Text(0.5, 1.0, 'Frequency of EstadoCivil')"
            ]
          },
          "metadata": {
            "tags": []
          },
          "execution_count": 84
        },
        {
          "output_type": "display_data",
          "data": {
            "image/png": "[encoded data removed]",
            "text/plain": [
              "<Figure size 432x288 with 1 Axes>"
            ]
          },
          "metadata": {
            "tags": []
          }
        }
      ]
    },
    {
      "cell_type": "code",
      "metadata": {
        "id": "Hb7araFHF8Tv",
        "colab_type": "code",
        "colab": {
          "base_uri": "https://localhost:8080/",
          "height": 294
        },
        "outputId": "3e6a99ed-3a07-43bb-e3a2-003df17d4c36"
      },
      "source": [
        "plt.boxplot(df_sample['ClaveMunicipio'], showmeans=True, meanline=True)\n",
        "plt.ylabel('ClaveMunicipio count')\n",
        "plt.title('Box Plot of ClaveMunicipio count')"
      ],
      "execution_count": 86,
      "outputs": [
        {
          "output_type": "execute_result",
          "data": {
            "text/plain": [
              "Text(0.5, 1.0, 'Box Plot of ClaveMunicipio count')"
            ]
          },
          "metadata": {
            "tags": []
          },
          "execution_count": 86
        },
        {
          "output_type": "display_data",
          "data": {
            "image/png": "[encoded data removed]",
            "text/plain": [
              "<Figure size 432x288 with 1 Axes>"
            ]
          },
          "metadata": {
            "tags": []
          }
        }
      ]
    }
  ]
}